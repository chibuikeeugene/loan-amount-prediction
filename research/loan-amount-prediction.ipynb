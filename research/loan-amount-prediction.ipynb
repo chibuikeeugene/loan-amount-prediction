{
 "cells": [
  {
   "cell_type": "markdown",
   "metadata": {},
   "source": [
    "# Project aim: \n",
    "To predict the likely recommendable loan amount for a client\n",
    "\n",
    "# Data library:\n",
    "1. Loan_ID - Unique loan request identifier - String,\n",
    "2. Gender - sex of the user  -  String,\n",
    "3. Married,\n",
    "4. Dependents,\n",
    "5. Education,\n",
    "6. Self_Employed,\n",
    "7. ApplicantIncome,\n",
    "8. CoapplicantIncome,\n",
    "9. LoanAmount,\n",
    "10. Loan_Amount_Term - in months - integer,\n",
    "11. Credit_History - 1(okay or eligible),0(Not eligible) - Integer,\n",
    "12. Property_Area,\n",
    "13. Loan_Status\n",
    "\n",
    "# Steps covered in the notebook\n",
    "1. EDA\n",
    "2. Feature engineering and selection\n",
    "3. Model training\n",
    "4. Model evalution\n",
    "5. Feature engineering pipeline\n",
    "6. Final model pipeline\n"
   ]
  },
  {
   "cell_type": "markdown",
   "metadata": {},
   "source": [
    "Load and Preprocess data"
   ]
  },
  {
   "cell_type": "code",
   "execution_count": 1,
   "metadata": {},
   "outputs": [
    {
     "name": "stderr",
     "output_type": "stream",
     "text": [
      "/Users/eugene/opt/anaconda3/lib/python3.9/site-packages/pandas/core/computation/expressions.py:21: UserWarning: Pandas requires version '2.8.4' or newer of 'numexpr' (version '2.8.1' currently installed).\n",
      "  from pandas.core.computation.check import NUMEXPR_INSTALLED\n",
      "/Users/eugene/opt/anaconda3/lib/python3.9/site-packages/pandas/core/arrays/masked.py:60: UserWarning: Pandas requires version '1.3.6' or newer of 'bottleneck' (version '1.3.4' currently installed).\n",
      "  from pandas.core import (\n",
      "/var/folders/br/h04swktx1ls9f8qq2dzv13000000gn/T/ipykernel_12544/1773018871.py:2: DeprecationWarning: \n",
      "Pyarrow will become a required dependency of pandas in the next major release of pandas (pandas 3.0),\n",
      "(to allow more performant data types, such as the Arrow string type, and better interoperability with other libraries)\n",
      "but was too old on your system - pyarrow 10.0.1 is the current minimum supported version as of this release.\n",
      "If this would cause problems for you,\n",
      "please provide us feedback at https://github.com/pandas-dev/pandas/issues/54466\n",
      "        \n",
      "  import pandas as pd\n"
     ]
    }
   ],
   "source": [
    "# importing necessary libraries\n",
    "import pandas as pd \n",
    "import numpy as np\n",
    "import matplotlib.pyplot as plt\n",
    "from sklearn.linear_model import SGDRegressor\n",
    "\n",
    "import seaborn as sns \n",
    "from sklearn.metrics import r2_score\n",
    "from sklearn.preprocessing import StandardScaler\n",
    "from sklearn.model_selection import train_test_split\n",
    "import warnings\n",
    "warnings.filterwarnings('ignore')"
   ]
  },
  {
   "cell_type": "code",
   "execution_count": 2,
   "metadata": {},
   "outputs": [
    {
     "data": {
      "text/html": [
       "<div>\n",
       "<style scoped>\n",
       "    .dataframe tbody tr th:only-of-type {\n",
       "        vertical-align: middle;\n",
       "    }\n",
       "\n",
       "    .dataframe tbody tr th {\n",
       "        vertical-align: top;\n",
       "    }\n",
       "\n",
       "    .dataframe thead th {\n",
       "        text-align: right;\n",
       "    }\n",
       "</style>\n",
       "<table border=\"1\" class=\"dataframe\">\n",
       "  <thead>\n",
       "    <tr style=\"text-align: right;\">\n",
       "      <th></th>\n",
       "      <th>Loan_ID</th>\n",
       "      <th>Gender</th>\n",
       "      <th>Married</th>\n",
       "      <th>Dependents</th>\n",
       "      <th>Education</th>\n",
       "      <th>Self_Employed</th>\n",
       "      <th>ApplicantIncome</th>\n",
       "      <th>CoapplicantIncome</th>\n",
       "      <th>LoanAmount</th>\n",
       "      <th>Loan_Amount_Term</th>\n",
       "      <th>Credit_History</th>\n",
       "      <th>Property_Area</th>\n",
       "      <th>Loan_Status</th>\n",
       "    </tr>\n",
       "  </thead>\n",
       "  <tbody>\n",
       "    <tr>\n",
       "      <th>0</th>\n",
       "      <td>LP001002</td>\n",
       "      <td>Male</td>\n",
       "      <td>No</td>\n",
       "      <td>0</td>\n",
       "      <td>Graduate</td>\n",
       "      <td>No</td>\n",
       "      <td>5849</td>\n",
       "      <td>0.0</td>\n",
       "      <td>NaN</td>\n",
       "      <td>360.0</td>\n",
       "      <td>1.0</td>\n",
       "      <td>Urban</td>\n",
       "      <td>Y</td>\n",
       "    </tr>\n",
       "    <tr>\n",
       "      <th>1</th>\n",
       "      <td>LP001003</td>\n",
       "      <td>Male</td>\n",
       "      <td>Yes</td>\n",
       "      <td>1</td>\n",
       "      <td>Graduate</td>\n",
       "      <td>No</td>\n",
       "      <td>4583</td>\n",
       "      <td>1508.0</td>\n",
       "      <td>128.0</td>\n",
       "      <td>360.0</td>\n",
       "      <td>1.0</td>\n",
       "      <td>Rural</td>\n",
       "      <td>N</td>\n",
       "    </tr>\n",
       "    <tr>\n",
       "      <th>2</th>\n",
       "      <td>LP001005</td>\n",
       "      <td>Male</td>\n",
       "      <td>Yes</td>\n",
       "      <td>0</td>\n",
       "      <td>Graduate</td>\n",
       "      <td>Yes</td>\n",
       "      <td>3000</td>\n",
       "      <td>0.0</td>\n",
       "      <td>66.0</td>\n",
       "      <td>360.0</td>\n",
       "      <td>1.0</td>\n",
       "      <td>Urban</td>\n",
       "      <td>Y</td>\n",
       "    </tr>\n",
       "    <tr>\n",
       "      <th>3</th>\n",
       "      <td>LP001006</td>\n",
       "      <td>Male</td>\n",
       "      <td>Yes</td>\n",
       "      <td>0</td>\n",
       "      <td>Not Graduate</td>\n",
       "      <td>No</td>\n",
       "      <td>2583</td>\n",
       "      <td>2358.0</td>\n",
       "      <td>120.0</td>\n",
       "      <td>360.0</td>\n",
       "      <td>1.0</td>\n",
       "      <td>Urban</td>\n",
       "      <td>Y</td>\n",
       "    </tr>\n",
       "    <tr>\n",
       "      <th>4</th>\n",
       "      <td>LP001008</td>\n",
       "      <td>Male</td>\n",
       "      <td>No</td>\n",
       "      <td>0</td>\n",
       "      <td>Graduate</td>\n",
       "      <td>No</td>\n",
       "      <td>6000</td>\n",
       "      <td>0.0</td>\n",
       "      <td>141.0</td>\n",
       "      <td>360.0</td>\n",
       "      <td>1.0</td>\n",
       "      <td>Urban</td>\n",
       "      <td>Y</td>\n",
       "    </tr>\n",
       "  </tbody>\n",
       "</table>\n",
       "</div>"
      ],
      "text/plain": [
       "    Loan_ID Gender Married Dependents     Education Self_Employed  \\\n",
       "0  LP001002   Male      No          0      Graduate            No   \n",
       "1  LP001003   Male     Yes          1      Graduate            No   \n",
       "2  LP001005   Male     Yes          0      Graduate           Yes   \n",
       "3  LP001006   Male     Yes          0  Not Graduate            No   \n",
       "4  LP001008   Male      No          0      Graduate            No   \n",
       "\n",
       "   ApplicantIncome  CoapplicantIncome  LoanAmount  Loan_Amount_Term  \\\n",
       "0             5849                0.0         NaN             360.0   \n",
       "1             4583             1508.0       128.0             360.0   \n",
       "2             3000                0.0        66.0             360.0   \n",
       "3             2583             2358.0       120.0             360.0   \n",
       "4             6000                0.0       141.0             360.0   \n",
       "\n",
       "   Credit_History Property_Area Loan_Status  \n",
       "0             1.0         Urban           Y  \n",
       "1             1.0         Rural           N  \n",
       "2             1.0         Urban           Y  \n",
       "3             1.0         Urban           Y  \n",
       "4             1.0         Urban           Y  "
      ]
     },
     "execution_count": 2,
     "metadata": {},
     "output_type": "execute_result"
    }
   ],
   "source": [
    "data = pd.read_csv('loan-amount-train.csv')\n",
    "data.head()"
   ]
  },
  {
   "cell_type": "code",
   "execution_count": 3,
   "metadata": {},
   "outputs": [
    {
     "name": "stdout",
     "output_type": "stream",
     "text": [
      "<class 'pandas.core.frame.DataFrame'>\n",
      "RangeIndex: 614 entries, 0 to 613\n",
      "Data columns (total 13 columns):\n",
      " #   Column             Non-Null Count  Dtype  \n",
      "---  ------             --------------  -----  \n",
      " 0   Loan_ID            614 non-null    object \n",
      " 1   Gender             601 non-null    object \n",
      " 2   Married            611 non-null    object \n",
      " 3   Dependents         599 non-null    object \n",
      " 4   Education          614 non-null    object \n",
      " 5   Self_Employed      582 non-null    object \n",
      " 6   ApplicantIncome    614 non-null    int64  \n",
      " 7   CoapplicantIncome  614 non-null    float64\n",
      " 8   LoanAmount         592 non-null    float64\n",
      " 9   Loan_Amount_Term   600 non-null    float64\n",
      " 10  Credit_History     564 non-null    float64\n",
      " 11  Property_Area      614 non-null    object \n",
      " 12  Loan_Status        614 non-null    object \n",
      "dtypes: float64(4), int64(1), object(8)\n",
      "memory usage: 62.5+ KB\n"
     ]
    }
   ],
   "source": [
    "data.info()"
   ]
  },
  {
   "cell_type": "code",
   "execution_count": 4,
   "metadata": {},
   "outputs": [],
   "source": [
    "# formatting colum names and data for consistency\n",
    "data.columns = data.columns.str.lower()"
   ]
  },
  {
   "cell_type": "code",
   "execution_count": 5,
   "metadata": {},
   "outputs": [
    {
     "name": "stdout",
     "output_type": "stream",
     "text": [
      "original data shape: (614, 13) , new data shape:(614, 10) \n"
     ]
    }
   ],
   "source": [
    "# drop the ID, gender and loan status columns as they are irrelevant to our modeling\n",
    "df = data.drop(['loan_id', 'gender', 'loan_status'], axis=1)\n",
    "print('original data shape: {} , new data shape:{} '.format(data.shape, df.shape))"
   ]
  },
  {
   "cell_type": "code",
   "execution_count": 6,
   "metadata": {},
   "outputs": [
    {
     "data": {
      "text/plain": [
       "(array([ 72., 310., 143.,  33.,  15.,   6.,   5.,   3.,   3.,   2.]),\n",
       " array([  9. ,  78.1, 147.2, 216.3, 285.4, 354.5, 423.6, 492.7, 561.8,\n",
       "        630.9, 700. ]),\n",
       " <BarContainer object of 10 artists>)"
      ]
     },
     "execution_count": 6,
     "metadata": {},
     "output_type": "execute_result"
    },
    {
     "data": {
      "image/png": "[encoded data removed]",
      "text/plain": [
       "<Figure size 432x288 with 1 Axes>"
      ]
     },
     "metadata": {
      "needs_background": "light"
     },
     "output_type": "display_data"
    }
   ],
   "source": [
    "# explore distribution of the target variable loanamount\n",
    "plt.hist(df['loanamount'], bins =10)"
   ]
  },
  {
   "cell_type": "code",
   "execution_count": 7,
   "metadata": {},
   "outputs": [
    {
     "data": {
      "text/plain": [
       "(array([  1.,   1.,   5.,  17.,  60., 211., 211.,  56.,  18.,  12.]),\n",
       " array([2.30258509, 2.72757737, 3.15256965, 3.57756193, 4.00255421,\n",
       "        4.42754649, 4.85253877, 5.27753105, 5.70252333, 6.12751561,\n",
       "        6.55250789]),\n",
       " <BarContainer object of 10 artists>)"
      ]
     },
     "execution_count": 7,
     "metadata": {},
     "output_type": "execute_result"
    },
    {
     "data": {
      "image/png": "[encoded data removed]",
      "text/plain": [
       "<Figure size 432x288 with 1 Axes>"
      ]
     },
     "metadata": {
      "needs_background": "light"
     },
     "output_type": "display_data"
    }
   ],
   "source": [
    "# taking the log of our target variable, since a highly skewed data can impact our model\n",
    "target  = np.log1p(df['loanamount'])\n",
    "plt.hist(target, bins =10)"
   ]
  },
  {
   "cell_type": "code",
   "execution_count": 8,
   "metadata": {},
   "outputs": [
    {
     "data": {
      "text/plain": [
       "married               3\n",
       "dependents           15\n",
       "education             0\n",
       "self_employed        32\n",
       "applicantincome       0\n",
       "coapplicantincome     0\n",
       "loanamount           22\n",
       "loan_amount_term     14\n",
       "credit_history       50\n",
       "property_area         0\n",
       "dtype: int64"
      ]
     },
     "execution_count": 8,
     "metadata": {},
     "output_type": "execute_result"
    }
   ],
   "source": [
    "# checking for missing values. \n",
    "df.isnull().sum()"
   ]
  },
  {
   "cell_type": "code",
   "execution_count": 9,
   "metadata": {},
   "outputs": [
    {
     "data": {
      "text/plain": [
       "array([1., 0.])"
      ]
     },
     "execution_count": 9,
     "metadata": {},
     "output_type": "execute_result"
    }
   ],
   "source": [
    "# drop records where credit history is not available\n",
    "df.dropna(subset=['credit_history'], inplace=True)\n",
    "\n",
    "#check for null values\n",
    "df['credit_history'].unique()"
   ]
  },
  {
   "cell_type": "code",
   "execution_count": 10,
   "metadata": {},
   "outputs": [
    {
     "data": {
      "text/plain": [
       "(564, 10)"
      ]
     },
     "execution_count": 10,
     "metadata": {},
     "output_type": "execute_result"
    }
   ],
   "source": [
    "# explore the shape of our data\n",
    "df.shape"
   ]
  },
  {
   "cell_type": "code",
   "execution_count": 11,
   "metadata": {},
   "outputs": [
    {
     "data": {
      "text/plain": [
       "dtype('O')"
      ]
     },
     "execution_count": 11,
     "metadata": {},
     "output_type": "execute_result"
    }
   ],
   "source": [
    "# converting the credit history variable to categorical\n",
    "df['credit_history'] = df['credit_history'].astype('str')\n",
    "df['credit_history'].dtype"
   ]
  },
  {
   "cell_type": "code",
   "execution_count": 12,
   "metadata": {},
   "outputs": [
    {
     "data": {
      "text/plain": [
       "['married',\n",
       " 'dependents',\n",
       " 'education',\n",
       " 'self_employed',\n",
       " 'credit_history',\n",
       " 'property_area']"
      ]
     },
     "execution_count": 12,
     "metadata": {},
     "output_type": "execute_result"
    }
   ],
   "source": [
    "# obtaining cat_vars, num_vars, vars_with_na, cat_with_na, num_with_na\n",
    "cat_vars = [data for data in df.columns if df[data].dtype == 'object']\n",
    "cat_vars"
   ]
  },
  {
   "cell_type": "code",
   "execution_count": 13,
   "metadata": {},
   "outputs": [
    {
     "data": {
      "text/plain": [
       "['applicantincome', 'coapplicantincome', 'loan_amount_term']"
      ]
     },
     "execution_count": 13,
     "metadata": {},
     "output_type": "execute_result"
    }
   ],
   "source": [
    "num_vars = [data for data in df.columns if data not in cat_vars and data != 'loanamount']\n",
    "num_vars"
   ]
  },
  {
   "cell_type": "code",
   "execution_count": 14,
   "metadata": {},
   "outputs": [
    {
     "data": {
      "text/plain": [
       "['married', 'dependents', 'self_employed', 'loan_amount_term']"
      ]
     },
     "execution_count": 14,
     "metadata": {},
     "output_type": "execute_result"
    }
   ],
   "source": [
    "vars_with_na =  [var for var in df.columns if df[var].isnull().sum() > 0 \n",
    "                 and var != 'loanamount']\n",
    "vars_with_na"
   ]
  },
  {
   "cell_type": "code",
   "execution_count": 15,
   "metadata": {},
   "outputs": [
    {
     "data": {
      "text/plain": [
       "credit_history\n",
       "1.0    475\n",
       "0.0     89\n",
       "Name: count, dtype: int64"
      ]
     },
     "execution_count": 15,
     "metadata": {},
     "output_type": "execute_result"
    }
   ],
   "source": [
    "df['credit_history'].value_counts()"
   ]
  },
  {
   "cell_type": "code",
   "execution_count": 16,
   "metadata": {},
   "outputs": [
    {
     "name": "stdout",
     "output_type": "stream",
     "text": [
      "cat_with_na: ['married', 'dependents', 'self_employed'], num_with_na: ['loan_amount_term']\n"
     ]
    }
   ],
   "source": [
    "cat_with_na = [var for var in vars_with_na if df[var].dtype == 'object']\n",
    "num_with_na = [var for var in vars_with_na if var not in cat_with_na and var in num_vars]\n",
    "print('cat_with_na: {}, num_with_na: {}'.format(cat_with_na, num_with_na))"
   ]
  },
  {
   "cell_type": "code",
   "execution_count": 17,
   "metadata": {},
   "outputs": [
    {
     "data": {
      "text/plain": [
       "self_employed    0.046099\n",
       "dependents       0.026596\n",
       "married          0.005319\n",
       "dtype: float64"
      ]
     },
     "execution_count": 17,
     "metadata": {},
     "output_type": "execute_result"
    }
   ],
   "source": [
    "df[cat_with_na].isnull().mean().sort_values(ascending=False)"
   ]
  },
  {
   "cell_type": "code",
   "execution_count": 18,
   "metadata": {},
   "outputs": [
    {
     "data": {
      "text/plain": [
       "loan_amount_term    0.024823\n",
       "dtype: float64"
      ]
     },
     "execution_count": 18,
     "metadata": {},
     "output_type": "execute_result"
    }
   ],
   "source": [
    "df[num_with_na].isnull().mean().sort_values(ascending=False)"
   ]
  },
  {
   "cell_type": "code",
   "execution_count": 19,
   "metadata": {},
   "outputs": [
    {
     "data": {
      "image/png": "[encoded data removed]",
      "text/plain": [
       "<Figure size 720x720 with 4 Axes>"
      ]
     },
     "metadata": {
      "needs_background": "light"
     },
     "output_type": "display_data"
    }
   ],
   "source": [
    "# exploring the distribution of our numerical variable\n",
    "df[num_vars].hist(bins=10, figsize=(10,10))\n",
    "plt.show()\n"
   ]
  },
  {
   "cell_type": "code",
   "execution_count": 20,
   "metadata": {},
   "outputs": [
    {
     "data": {
      "text/plain": [
       "married           2\n",
       "dependents        4\n",
       "education         2\n",
       "self_employed     2\n",
       "credit_history    2\n",
       "property_area     3\n",
       "dtype: int64"
      ]
     },
     "execution_count": 20,
     "metadata": {},
     "output_type": "execute_result"
    }
   ],
   "source": [
    "# exploring the cardinality of our categorical variable\n",
    "df[cat_vars].nunique()"
   ]
  },
  {
   "cell_type": "markdown",
   "metadata": {},
   "source": [
    "From the above we do not need to worry about the cardinality of our data as it is within reasonable consideration, hence they cannot influence our \n",
    "model"
   ]
  },
  {
   "cell_type": "markdown",
   "metadata": {},
   "source": [
    "# Separate data into train and val"
   ]
  },
  {
   "cell_type": "code",
   "execution_count": 21,
   "metadata": {},
   "outputs": [
    {
     "data": {
      "text/plain": [
       "Index(['married', 'dependents', 'education', 'self_employed',\n",
       "       'applicantincome', 'coapplicantincome', 'loanamount',\n",
       "       'loan_amount_term', 'credit_history', 'property_area'],\n",
       "      dtype='object')"
      ]
     },
     "execution_count": 21,
     "metadata": {},
     "output_type": "execute_result"
    }
   ],
   "source": [
    "df.columns"
   ]
  },
  {
   "cell_type": "code",
   "execution_count": 22,
   "metadata": {},
   "outputs": [
    {
     "data": {
      "text/plain": [
       "((451, 9), (113, 9), (451,), (113,))"
      ]
     },
     "execution_count": 22,
     "metadata": {},
     "output_type": "execute_result"
    }
   ],
   "source": [
    "\n",
    "x_train,x_val,y_train,y_val = train_test_split(\n",
    "                                df.drop(['loanamount'], axis=1),\n",
    "                                df['loanamount'],\n",
    "                                random_state=1,\n",
    "                                test_size=.2\n",
    ")\n",
    "x_train.shape,x_val.shape, y_train.shape, y_val.shape "
   ]
  },
  {
   "cell_type": "markdown",
   "metadata": {},
   "source": [
    "# Transforming our Target variable for later use in modeling"
   ]
  },
  {
   "cell_type": "code",
   "execution_count": 23,
   "metadata": {},
   "outputs": [
    {
     "data": {
      "text/plain": [
       "110"
      ]
     },
     "execution_count": 23,
     "metadata": {},
     "output_type": "execute_result"
    }
   ],
   "source": [
    "# Obtain the mode of the target variabke and use it in filling missing data\n",
    "mode  = int(y_train.mode())\n",
    "mode"
   ]
  },
  {
   "cell_type": "code",
   "execution_count": 24,
   "metadata": {},
   "outputs": [],
   "source": [
    "\n",
    "# to address missing values in loanamount, which is  our target variable\n",
    "# we can replace nan with 0\n",
    "y_train = y_train.fillna(mode)\n",
    "y_val = y_val.fillna(mode)"
   ]
  },
  {
   "cell_type": "code",
   "execution_count": 25,
   "metadata": {},
   "outputs": [],
   "source": [
    "# we apply logarithm transformation\n",
    "y_train = np.log1p(y_train)\n",
    "y_val = np.log1p(y_val)"
   ]
  },
  {
   "cell_type": "markdown",
   "metadata": {},
   "source": [
    "# Performing the feature engineering procedures"
   ]
  },
  {
   "cell_type": "code",
   "execution_count": 26,
   "metadata": {},
   "outputs": [
    {
     "data": {
      "text/plain": [
       "loan_amount_term    0\n",
       "dtype: int64"
      ]
     },
     "execution_count": 26,
     "metadata": {},
     "output_type": "execute_result"
    }
   ],
   "source": [
    "# Handling missing data in our numerical variable\n",
    "# add binary missing indicator under a new column and then replace missing data with the mode\n",
    "    # add missing indicator\n",
    "for var in num_with_na:\n",
    "    x_train[var+'_na'] = np.where(x_train[var].isnull(), 1, 0)\n",
    "    x_val[var+'_na'] = np.where(x_val[var].isnull(), 1, 0)\n",
    "\n",
    "    # compute the mode and replace na with the mode\n",
    "    # mode_val = int(x_train[var].mode())\n",
    "\n",
    "    # compute the median and replace na with the median\n",
    "    val = x_train[var].median()\n",
    "\n",
    "    x_train[var].fillna(val, inplace=True)\n",
    "    x_val[var].fillna(val, inplace=True)\n",
    "\n",
    "x_train[num_with_na].isnull().sum()"
   ]
  },
  {
   "cell_type": "code",
   "execution_count": 27,
   "metadata": {},
   "outputs": [],
   "source": [
    "# Handling missing values in categorical variables\n",
    "x_train[cat_with_na] = x_train[cat_with_na].fillna('missing')\n",
    "x_val[cat_with_na] = x_val[cat_with_na].fillna('missing')"
   ]
  },
  {
   "cell_type": "code",
   "execution_count": 28,
   "metadata": {},
   "outputs": [
    {
     "data": {
      "text/plain": [
       "married                0\n",
       "dependents             0\n",
       "education              0\n",
       "self_employed          0\n",
       "applicantincome        0\n",
       "coapplicantincome      0\n",
       "loan_amount_term       0\n",
       "credit_history         0\n",
       "property_area          0\n",
       "loan_amount_term_na    0\n",
       "dtype: int64"
      ]
     },
     "execution_count": 28,
     "metadata": {},
     "output_type": "execute_result"
    }
   ],
   "source": [
    "#checking for any missing data in our train set\n",
    "x_train.isnull().sum()"
   ]
  },
  {
   "cell_type": "code",
   "execution_count": 29,
   "metadata": {},
   "outputs": [
    {
     "data": {
      "text/plain": [
       "married                0\n",
       "dependents             0\n",
       "education              0\n",
       "self_employed          0\n",
       "applicantincome        0\n",
       "coapplicantincome      0\n",
       "loan_amount_term       0\n",
       "credit_history         0\n",
       "property_area          0\n",
       "loan_amount_term_na    0\n",
       "dtype: int64"
      ]
     },
     "execution_count": 29,
     "metadata": {},
     "output_type": "execute_result"
    }
   ],
   "source": [
    "x_val.isnull().sum()"
   ]
  },
  {
   "cell_type": "code",
   "execution_count": 30,
   "metadata": {},
   "outputs": [
    {
     "data": {
      "text/plain": [
       "married           3\n",
       "dependents        5\n",
       "education         2\n",
       "self_employed     3\n",
       "credit_history    2\n",
       "property_area     3\n",
       "dtype: int64"
      ]
     },
     "execution_count": 30,
     "metadata": {},
     "output_type": "execute_result"
    }
   ],
   "source": [
    "x_train[cat_vars].nunique()"
   ]
  },
  {
   "cell_type": "code",
   "execution_count": 31,
   "metadata": {},
   "outputs": [
    {
     "data": {
      "text/plain": [
       "married           2\n",
       "dependents        5\n",
       "education         2\n",
       "self_employed     3\n",
       "credit_history    2\n",
       "property_area     3\n",
       "dtype: int64"
      ]
     },
     "execution_count": 31,
     "metadata": {},
     "output_type": "execute_result"
    }
   ],
   "source": [
    "x_val[cat_vars].nunique()"
   ]
  },
  {
   "cell_type": "code",
   "execution_count": 32,
   "metadata": {},
   "outputs": [
    {
     "data": {
      "text/plain": [
       "array(['No', 'Yes'], dtype=object)"
      ]
     },
     "execution_count": 32,
     "metadata": {},
     "output_type": "execute_result"
    }
   ],
   "source": [
    "x_val['married'].unique()"
   ]
  },
  {
   "cell_type": "markdown",
   "metadata": {},
   "source": [
    "# Perform one hot encoding on our categorical variables. "
   ]
  },
  {
   "cell_type": "code",
   "execution_count": 33,
   "metadata": {},
   "outputs": [
    {
     "data": {
      "text/plain": [
       "((451, 16), (113, 15))"
      ]
     },
     "execution_count": 33,
     "metadata": {},
     "output_type": "execute_result"
    }
   ],
   "source": [
    "# In performing one hot encoding, remember to drop original variabbles\n",
    "# using pandas get dummy method\n",
    "\n",
    "for var in cat_vars:\n",
    "    x_train = pd.concat([x_train, pd.get_dummies(x_train[var], prefix=var, drop_first=True, dtype=int)\n",
    "               ], axis=1)\n",
    "    \n",
    "    x_val = pd.concat([x_val, pd.get_dummies(x_val[var], prefix=var, drop_first=True, dtype=int)\n",
    "               ], axis=1)\n",
    "    \n",
    "x_train.drop(labels=cat_vars, axis=1, inplace=True)\n",
    "x_val.drop(labels=cat_vars, axis=1, inplace=True)\n",
    "\n",
    "x_train.shape, x_val.shape"
   ]
  },
  {
   "cell_type": "code",
   "execution_count": 34,
   "metadata": {},
   "outputs": [
    {
     "data": {
      "text/plain": [
       "['applicantincome',\n",
       " 'coapplicantincome',\n",
       " 'loan_amount_term',\n",
       " 'loan_amount_term_na',\n",
       " 'married_Yes',\n",
       " 'married_missing',\n",
       " 'dependents_1',\n",
       " 'dependents_2',\n",
       " 'dependents_3+',\n",
       " 'dependents_missing',\n",
       " 'education_Not Graduate',\n",
       " 'self_employed_Yes',\n",
       " 'self_employed_missing',\n",
       " 'credit_history_1.0',\n",
       " 'property_area_Semiurban',\n",
       " 'property_area_Urban']"
      ]
     },
     "execution_count": 34,
     "metadata": {},
     "output_type": "execute_result"
    }
   ],
   "source": [
    "list(x_train.columns)"
   ]
  },
  {
   "cell_type": "code",
   "execution_count": 35,
   "metadata": {},
   "outputs": [
    {
     "data": {
      "text/plain": [
       "['applicantincome',\n",
       " 'coapplicantincome',\n",
       " 'loan_amount_term',\n",
       " 'loan_amount_term_na',\n",
       " 'married_Yes',\n",
       " 'dependents_1',\n",
       " 'dependents_2',\n",
       " 'dependents_3+',\n",
       " 'dependents_missing',\n",
       " 'education_Not Graduate',\n",
       " 'self_employed_Yes',\n",
       " 'self_employed_missing',\n",
       " 'credit_history_1.0',\n",
       " 'property_area_Semiurban',\n",
       " 'property_area_Urban']"
      ]
     },
     "execution_count": 35,
     "metadata": {},
     "output_type": "execute_result"
    }
   ],
   "source": [
    "list(x_val.columns)"
   ]
  },
  {
   "cell_type": "code",
   "execution_count": 36,
   "metadata": {},
   "outputs": [],
   "source": [
    "# since we have a column missing in our validation dataset, we can introduce\n",
    "# it manually\n",
    "# x_val['married_missing'] = 0\n",
    "x_val['married_missing'] = 0"
   ]
  },
  {
   "cell_type": "code",
   "execution_count": 37,
   "metadata": {},
   "outputs": [
    {
     "data": {
      "text/plain": [
       "['applicantincome',\n",
       " 'coapplicantincome',\n",
       " 'loan_amount_term',\n",
       " 'loan_amount_term_na',\n",
       " 'married_Yes',\n",
       " 'dependents_1',\n",
       " 'dependents_2',\n",
       " 'dependents_3+',\n",
       " 'dependents_missing',\n",
       " 'education_Not Graduate',\n",
       " 'self_employed_Yes',\n",
       " 'self_employed_missing',\n",
       " 'credit_history_1.0',\n",
       " 'property_area_Semiurban',\n",
       " 'property_area_Urban',\n",
       " 'married_missing']"
      ]
     },
     "execution_count": 37,
     "metadata": {},
     "output_type": "execute_result"
    }
   ],
   "source": [
    "list(x_val.columns)"
   ]
  },
  {
   "cell_type": "code",
   "execution_count": 38,
   "metadata": {},
   "outputs": [
    {
     "data": {
      "text/plain": [
       "['applicantincome',\n",
       " 'coapplicantincome',\n",
       " 'loan_amount_term',\n",
       " 'loan_amount_term_na',\n",
       " 'married_Yes',\n",
       " 'married_missing',\n",
       " 'dependents_1',\n",
       " 'dependents_2',\n",
       " 'dependents_3+',\n",
       " 'dependents_missing',\n",
       " 'education_Not Graduate',\n",
       " 'self_employed_Yes',\n",
       " 'self_employed_missing',\n",
       " 'credit_history_1.0',\n",
       " 'property_area_Semiurban',\n",
       " 'property_area_Urban']"
      ]
     },
     "execution_count": 38,
     "metadata": {},
     "output_type": "execute_result"
    }
   ],
   "source": [
    "# Note that now embarked_Rare will be at the end of the test set\n",
    "# so in order to pass the variables in the same order, we will\n",
    "# create a variables variable:\n",
    "\n",
    "variables = [c  for c in x_train.columns]\n",
    "\n",
    "variables"
   ]
  },
  {
   "cell_type": "markdown",
   "metadata": {},
   "source": [
    "# Performing numerical transformation on our numerical variables that are skewed"
   ]
  },
  {
   "cell_type": "code",
   "execution_count": 39,
   "metadata": {},
   "outputs": [
    {
     "data": {
      "text/plain": [
       "['applicantincome', 'coapplicantincome', 'loan_amount_term']"
      ]
     },
     "execution_count": 39,
     "metadata": {},
     "output_type": "execute_result"
    }
   ],
   "source": [
    "num_vars"
   ]
  },
  {
   "cell_type": "code",
   "execution_count": 40,
   "metadata": {},
   "outputs": [
    {
     "data": {
      "text/plain": [
       "['applicantincome', 'coapplicantincome']"
      ]
     },
     "execution_count": 40,
     "metadata": {},
     "output_type": "execute_result"
    }
   ],
   "source": [
    "# applying logarithmic transformation to applicant and co applicant income\n",
    "cont_num_vars = [var for var in num_vars if len(df[var].unique())>20]  \n",
    "cont_num_vars"
   ]
  },
  {
   "cell_type": "code",
   "execution_count": 41,
   "metadata": {},
   "outputs": [
    {
     "data": {
      "text/plain": [
       "['loan_amount_term']"
      ]
     },
     "execution_count": 41,
     "metadata": {},
     "output_type": "execute_result"
    }
   ],
   "source": [
    "disc_num_vars =  [var for var in num_vars if var not in cont_num_vars]\n",
    "disc_num_vars"
   ]
  },
  {
   "cell_type": "code",
   "execution_count": 42,
   "metadata": {},
   "outputs": [],
   "source": [
    "# taking the natural logarithm of our applicant income and coapplicant income\n",
    "x_train[cont_num_vars] = np.log1p(x_train[cont_num_vars])\n",
    "x_val[cont_num_vars] = np.log1p(x_val[cont_num_vars])"
   ]
  },
  {
   "cell_type": "markdown",
   "metadata": {},
   "source": [
    "# Feature Scaling"
   ]
  },
  {
   "cell_type": "code",
   "execution_count": 43,
   "metadata": {},
   "outputs": [],
   "source": [
    "scalar = StandardScaler()\n",
    "\n",
    "scalar.fit(x_train[variables])\n",
    "\n",
    "x_train = scalar.transform(x_train[variables])\n",
    "x_val = scalar.transform(x_val[variables])"
   ]
  },
  {
   "cell_type": "code",
   "execution_count": 44,
   "metadata": {},
   "outputs": [
    {
     "data": {
      "text/html": [
       "<div>\n",
       "<style scoped>\n",
       "    .dataframe tbody tr th:only-of-type {\n",
       "        vertical-align: middle;\n",
       "    }\n",
       "\n",
       "    .dataframe tbody tr th {\n",
       "        vertical-align: top;\n",
       "    }\n",
       "\n",
       "    .dataframe thead th {\n",
       "        text-align: right;\n",
       "    }\n",
       "</style>\n",
       "<table border=\"1\" class=\"dataframe\">\n",
       "  <thead>\n",
       "    <tr style=\"text-align: right;\">\n",
       "      <th></th>\n",
       "      <th>0</th>\n",
       "      <th>1</th>\n",
       "      <th>2</th>\n",
       "      <th>3</th>\n",
       "      <th>4</th>\n",
       "      <th>5</th>\n",
       "      <th>6</th>\n",
       "      <th>7</th>\n",
       "      <th>8</th>\n",
       "      <th>9</th>\n",
       "      <th>10</th>\n",
       "      <th>11</th>\n",
       "      <th>12</th>\n",
       "      <th>13</th>\n",
       "      <th>14</th>\n",
       "      <th>15</th>\n",
       "    </tr>\n",
       "  </thead>\n",
       "  <tbody>\n",
       "    <tr>\n",
       "      <th>0</th>\n",
       "      <td>-0.698691</td>\n",
       "      <td>0.858343</td>\n",
       "      <td>0.245705</td>\n",
       "      <td>-0.158114</td>\n",
       "      <td>0.741504</td>\n",
       "      <td>-0.081832</td>\n",
       "      <td>-0.414039</td>\n",
       "      <td>-0.460831</td>\n",
       "      <td>3.296729</td>\n",
       "      <td>-0.178988</td>\n",
       "      <td>-0.499307</td>\n",
       "      <td>-0.399228</td>\n",
       "      <td>-0.226455</td>\n",
       "      <td>0.435860</td>\n",
       "      <td>-0.788861</td>\n",
       "      <td>-0.681385</td>\n",
       "    </tr>\n",
       "    <tr>\n",
       "      <th>1</th>\n",
       "      <td>-0.521707</td>\n",
       "      <td>-1.125511</td>\n",
       "      <td>0.245705</td>\n",
       "      <td>-0.158114</td>\n",
       "      <td>-1.348610</td>\n",
       "      <td>-0.081832</td>\n",
       "      <td>-0.414039</td>\n",
       "      <td>-0.460831</td>\n",
       "      <td>-0.303331</td>\n",
       "      <td>-0.178988</td>\n",
       "      <td>-0.499307</td>\n",
       "      <td>-0.399228</td>\n",
       "      <td>-0.226455</td>\n",
       "      <td>0.435860</td>\n",
       "      <td>-0.788861</td>\n",
       "      <td>1.467599</td>\n",
       "    </tr>\n",
       "    <tr>\n",
       "      <th>2</th>\n",
       "      <td>-0.842792</td>\n",
       "      <td>0.888531</td>\n",
       "      <td>0.245705</td>\n",
       "      <td>-0.158114</td>\n",
       "      <td>0.741504</td>\n",
       "      <td>-0.081832</td>\n",
       "      <td>-0.414039</td>\n",
       "      <td>-0.460831</td>\n",
       "      <td>-0.303331</td>\n",
       "      <td>-0.178988</td>\n",
       "      <td>-0.499307</td>\n",
       "      <td>-0.399228</td>\n",
       "      <td>-0.226455</td>\n",
       "      <td>0.435860</td>\n",
       "      <td>1.267650</td>\n",
       "      <td>-0.681385</td>\n",
       "    </tr>\n",
       "    <tr>\n",
       "      <th>3</th>\n",
       "      <td>-0.996421</td>\n",
       "      <td>0.811958</td>\n",
       "      <td>0.245705</td>\n",
       "      <td>-0.158114</td>\n",
       "      <td>0.741504</td>\n",
       "      <td>-0.081832</td>\n",
       "      <td>-0.414039</td>\n",
       "      <td>2.169991</td>\n",
       "      <td>-0.303331</td>\n",
       "      <td>-0.178988</td>\n",
       "      <td>2.002776</td>\n",
       "      <td>-0.399228</td>\n",
       "      <td>-0.226455</td>\n",
       "      <td>0.435860</td>\n",
       "      <td>1.267650</td>\n",
       "      <td>-0.681385</td>\n",
       "    </tr>\n",
       "    <tr>\n",
       "      <th>4</th>\n",
       "      <td>0.906759</td>\n",
       "      <td>-1.125511</td>\n",
       "      <td>0.245705</td>\n",
       "      <td>-0.158114</td>\n",
       "      <td>0.741504</td>\n",
       "      <td>-0.081832</td>\n",
       "      <td>-0.414039</td>\n",
       "      <td>-0.460831</td>\n",
       "      <td>-0.303331</td>\n",
       "      <td>-0.178988</td>\n",
       "      <td>2.002776</td>\n",
       "      <td>-0.399228</td>\n",
       "      <td>-0.226455</td>\n",
       "      <td>-2.294317</td>\n",
       "      <td>-0.788861</td>\n",
       "      <td>1.467599</td>\n",
       "    </tr>\n",
       "  </tbody>\n",
       "</table>\n",
       "</div>"
      ],
      "text/plain": [
       "         0         1         2         3         4         5         6   \\\n",
       "0 -0.698691  0.858343  0.245705 -0.158114  0.741504 -0.081832 -0.414039   \n",
       "1 -0.521707 -1.125511  0.245705 -0.158114 -1.348610 -0.081832 -0.414039   \n",
       "2 -0.842792  0.888531  0.245705 -0.158114  0.741504 -0.081832 -0.414039   \n",
       "3 -0.996421  0.811958  0.245705 -0.158114  0.741504 -0.081832 -0.414039   \n",
       "4  0.906759 -1.125511  0.245705 -0.158114  0.741504 -0.081832 -0.414039   \n",
       "\n",
       "         7         8         9         10        11        12        13  \\\n",
       "0 -0.460831  3.296729 -0.178988 -0.499307 -0.399228 -0.226455  0.435860   \n",
       "1 -0.460831 -0.303331 -0.178988 -0.499307 -0.399228 -0.226455  0.435860   \n",
       "2 -0.460831 -0.303331 -0.178988 -0.499307 -0.399228 -0.226455  0.435860   \n",
       "3  2.169991 -0.303331 -0.178988  2.002776 -0.399228 -0.226455  0.435860   \n",
       "4 -0.460831 -0.303331 -0.178988  2.002776 -0.399228 -0.226455 -2.294317   \n",
       "\n",
       "         14        15  \n",
       "0 -0.788861 -0.681385  \n",
       "1 -0.788861  1.467599  \n",
       "2  1.267650 -0.681385  \n",
       "3  1.267650 -0.681385  \n",
       "4 -0.788861  1.467599  "
      ]
     },
     "execution_count": 44,
     "metadata": {},
     "output_type": "execute_result"
    }
   ],
   "source": [
    "a = pd.DataFrame(x_train)\n",
    "a.head()"
   ]
  },
  {
   "cell_type": "markdown",
   "metadata": {},
   "source": [
    "# Train a Lasso Regressor Model"
   ]
  },
  {
   "cell_type": "code",
   "execution_count": 45,
   "metadata": {},
   "outputs": [
    {
     "data": {
      "text/html": [
       "<style>#sk-container-id-1 {color: black;}#sk-container-id-1 pre{padding: 0;}#sk-container-id-1 div.sk-toggleable {background-color: white;}#sk-container-id-1 label.sk-toggleable__label {cursor: pointer;display: block;width: 100%;margin-bottom: 0;padding: 0.3em;box-sizing: border-box;text-align: center;}#sk-container-id-1 label.sk-toggleable__label-arrow:before {content: \"▸\";float: left;margin-right: 0.25em;color: #696969;}#sk-container-id-1 label.sk-toggleable__label-arrow:hover:before {color: black;}#sk-container-id-1 div.sk-estimator:hover label.sk-toggleable__label-arrow:before {color: black;}#sk-container-id-1 div.sk-toggleable__content {max-height: 0;max-width: 0;overflow: hidden;text-align: left;background-color: #f0f8ff;}#sk-container-id-1 div.sk-toggleable__content pre {margin: 0.2em;color: black;border-radius: 0.25em;background-color: #f0f8ff;}#sk-container-id-1 input.sk-toggleable__control:checked~div.sk-toggleable__content {max-height: 200px;max-width: 100%;overflow: auto;}#sk-container-id-1 input.sk-toggleable__control:checked~label.sk-toggleable__label-arrow:before {content: \"▾\";}#sk-container-id-1 div.sk-estimator input.sk-toggleable__control:checked~label.sk-toggleable__label {background-color: #d4ebff;}#sk-container-id-1 div.sk-label input.sk-toggleable__control:checked~label.sk-toggleable__label {background-color: #d4ebff;}#sk-container-id-1 input.sk-hidden--visually {border: 0;clip: rect(1px 1px 1px 1px);clip: rect(1px, 1px, 1px, 1px);height: 1px;margin: -1px;overflow: hidden;padding: 0;position: absolute;width: 1px;}#sk-container-id-1 div.sk-estimator {font-family: monospace;background-color: #f0f8ff;border: 1px dotted black;border-radius: 0.25em;box-sizing: border-box;margin-bottom: 0.5em;}#sk-container-id-1 div.sk-estimator:hover {background-color: #d4ebff;}#sk-container-id-1 div.sk-parallel-item::after {content: \"\";width: 100%;border-bottom: 1px solid gray;flex-grow: 1;}#sk-container-id-1 div.sk-label:hover label.sk-toggleable__label {background-color: #d4ebff;}#sk-container-id-1 div.sk-serial::before {content: \"\";position: absolute;border-left: 1px solid gray;box-sizing: border-box;top: 0;bottom: 0;left: 50%;z-index: 0;}#sk-container-id-1 div.sk-serial {display: flex;flex-direction: column;align-items: center;background-color: white;padding-right: 0.2em;padding-left: 0.2em;position: relative;}#sk-container-id-1 div.sk-item {position: relative;z-index: 1;}#sk-container-id-1 div.sk-parallel {display: flex;align-items: stretch;justify-content: center;background-color: white;position: relative;}#sk-container-id-1 div.sk-item::before, #sk-container-id-1 div.sk-parallel-item::before {content: \"\";position: absolute;border-left: 1px solid gray;box-sizing: border-box;top: 0;bottom: 0;left: 50%;z-index: -1;}#sk-container-id-1 div.sk-parallel-item {display: flex;flex-direction: column;z-index: 1;position: relative;background-color: white;}#sk-container-id-1 div.sk-parallel-item:first-child::after {align-self: flex-end;width: 50%;}#sk-container-id-1 div.sk-parallel-item:last-child::after {align-self: flex-start;width: 50%;}#sk-container-id-1 div.sk-parallel-item:only-child::after {width: 0;}#sk-container-id-1 div.sk-dashed-wrapped {border: 1px dashed gray;margin: 0 0.4em 0.5em 0.4em;box-sizing: border-box;padding-bottom: 0.4em;background-color: white;}#sk-container-id-1 div.sk-label label {font-family: monospace;font-weight: bold;display: inline-block;line-height: 1.2em;}#sk-container-id-1 div.sk-label-container {text-align: center;}#sk-container-id-1 div.sk-container {/* jupyter's `normalize.less` sets `[hidden] { display: none; }` but bootstrap.min.css set `[hidden] { display: none !important; }` so we also need the `!important` here to be able to override the default hidden behavior on the sphinx rendered scikit-learn.org. See: https://github.com/scikit-learn/scikit-learn/issues/21755 */display: inline-block !important;position: relative;}#sk-container-id-1 div.sk-text-repr-fallback {display: none;}</style><div id=\"sk-container-id-1\" class=\"sk-top-container\"><div class=\"sk-text-repr-fallback\"><pre>SGDRegressor(random_state=1)</pre><b>In a Jupyter environment, please rerun this cell to show the HTML representation or trust the notebook. <br />On GitHub, the HTML representation is unable to render, please try loading this page with nbviewer.org.</b></div><div class=\"sk-container\" hidden><div class=\"sk-item\"><div class=\"sk-estimator sk-toggleable\"><input class=\"sk-toggleable__control sk-hidden--visually\" id=\"sk-estimator-id-1\" type=\"checkbox\" checked><label for=\"sk-estimator-id-1\" class=\"sk-toggleable__label sk-toggleable__label-arrow\">SGDRegressor</label><div class=\"sk-toggleable__content\"><pre>SGDRegressor(random_state=1)</pre></div></div></div></div></div>"
      ],
      "text/plain": [
       "SGDRegressor(random_state=1)"
      ]
     },
     "execution_count": 45,
     "metadata": {},
     "output_type": "execute_result"
    }
   ],
   "source": [
    "SGD =  SGDRegressor(alpha= 0.0001, max_iter= 1000,  random_state=1)\n",
    "SGD.fit(x_train, y_train)"
   ]
  },
  {
   "cell_type": "markdown",
   "metadata": {},
   "source": [
    "# Make predictions and evaluate model performance"
   ]
  },
  {
   "cell_type": "code",
   "execution_count": 46,
   "metadata": {},
   "outputs": [],
   "source": [
    "pred_y_train =  SGD.predict(x_train)\n",
    "pred_y_val = SGD.predict(x_val)"
   ]
  },
  {
   "cell_type": "code",
   "execution_count": 47,
   "metadata": {},
   "outputs": [
    {
     "data": {
      "text/plain": [
       "0.3991904465663282"
      ]
     },
     "execution_count": 47,
     "metadata": {},
     "output_type": "execute_result"
    }
   ],
   "source": [
    "r2_score(y_train, pred_y_train)"
   ]
  },
  {
   "cell_type": "code",
   "execution_count": 48,
   "metadata": {},
   "outputs": [
    {
     "data": {
      "text/plain": [
       "0.3779036366356757"
      ]
     },
     "execution_count": 48,
     "metadata": {},
     "output_type": "execute_result"
    }
   ],
   "source": [
    "r2_score(y_val, pred_y_val)"
   ]
  },
  {
   "cell_type": "markdown",
   "metadata": {},
   "source": [
    "### The above accuracy can stem from two causes:\n",
    "1. We have a small dataset as such the model couldn't learn effectively\n",
    "2. Data features is poor and lack predictive attributes"
   ]
  },
  {
   "cell_type": "markdown",
   "metadata": {},
   "source": []
  }
 ],
 "metadata": {
  "kernelspec": {
   "display_name": "base",
   "language": "python",
   "name": "python3"
  },
  "language_info": {
   "codemirror_mode": {
    "name": "ipython",
    "version": 3
   },
   "file_extension": ".py",
   "mimetype": "text/x-python",
   "name": "python",
   "nbconvert_exporter": "python",
   "pygments_lexer": "ipython3",
   "version": "3.9.12"
  }
 },
 "nbformat": 4,
 "nbformat_minor": 2
}
