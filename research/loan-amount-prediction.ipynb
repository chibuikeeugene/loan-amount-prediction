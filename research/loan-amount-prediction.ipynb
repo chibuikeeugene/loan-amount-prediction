{
 "cells": [
  {
   "cell_type": "markdown",
   "metadata": {},
   "source": [
    "# Project aim: \n",
    "To estimate the likely permissible loan amount for a client\n",
    "\n",
    "# Data library:\n",
    "1. Loan_ID - Unique loan request identifier - String,\n",
    "2. Gender - sex of the user  -  String,\n",
    "3. Married,\n",
    "4. Dependents,\n",
    "5. Education,\n",
    "6. Self_Employed,\n",
    "7. ApplicantIncome,\n",
    "8. CoapplicantIncome,\n",
    "9. LoanAmount,\n",
    "10. Loan_Amount_Term - in months - integer,\n",
    "11. Credit_History - 1(okay or eligible),0(Not eligible) - Integer,\n",
    "12. Property_Area,\n",
    "13. Loan_Status\n",
    "\n",
    "# Steps covered in the notebook\n",
    "1. EDA\n",
    "2. Feature engineering and selection\n",
    "3. Model training\n",
    "4. Model evalution\n",
    "5. Feature engineering pipeline\n",
    "6. Final model pipeline\n"
   ]
  },
  {
   "cell_type": "markdown",
   "metadata": {},
   "source": [
    "Load and Preprocess data"
   ]
  },
  {
   "cell_type": "code",
   "execution_count": 1,
   "metadata": {},
   "outputs": [],
   "source": [
    "# importing necessary libraries\n",
    "import pandas as pd \n",
    "import numpy as np\n",
    "import matplotlib.pyplot as plt\n",
    "from sklearn.linear_model import SGDRegressor, ElasticNet, LassoCV\n",
    "from feature_engine.encoding import OrdinalEncoder\n",
    "\n",
    "# experiment tracking\n",
    "import  mlflow\n",
    "mlflow.set_tracking_uri(\"http://127.0.0.1:5000\")\n",
    "\n",
    "import seaborn as sns \n",
    "from sklearn.metrics import r2_score, root_mean_squared_error, mean_absolute_percentage_error\n",
    "from sklearn.preprocessing import MinMaxScaler\n",
    "from sklearn.model_selection import train_test_split\n",
    "import warnings\n",
    "warnings.filterwarnings('ignore')"
   ]
  },
  {
   "cell_type": "code",
   "execution_count": 2,
   "metadata": {},
   "outputs": [
    {
     "data": {
      "text/html": [
       "<div>\n",
       "<style scoped>\n",
       "    .dataframe tbody tr th:only-of-type {\n",
       "        vertical-align: middle;\n",
       "    }\n",
       "\n",
       "    .dataframe tbody tr th {\n",
       "        vertical-align: top;\n",
       "    }\n",
       "\n",
       "    .dataframe thead th {\n",
       "        text-align: right;\n",
       "    }\n",
       "</style>\n",
       "<table border=\"1\" class=\"dataframe\">\n",
       "  <thead>\n",
       "    <tr style=\"text-align: right;\">\n",
       "      <th></th>\n",
       "      <th>Loan_ID</th>\n",
       "      <th>Gender</th>\n",
       "      <th>Married</th>\n",
       "      <th>Dependents</th>\n",
       "      <th>Education</th>\n",
       "      <th>Self_Employed</th>\n",
       "      <th>ApplicantIncome</th>\n",
       "      <th>CoapplicantIncome</th>\n",
       "      <th>LoanAmount</th>\n",
       "      <th>Loan_Amount_Term</th>\n",
       "      <th>Credit_History</th>\n",
       "      <th>Property_Area</th>\n",
       "      <th>Loan_Status</th>\n",
       "    </tr>\n",
       "  </thead>\n",
       "  <tbody>\n",
       "    <tr>\n",
       "      <th>0</th>\n",
       "      <td>LP001002</td>\n",
       "      <td>Male</td>\n",
       "      <td>No</td>\n",
       "      <td>0</td>\n",
       "      <td>Graduate</td>\n",
       "      <td>No</td>\n",
       "      <td>5849</td>\n",
       "      <td>0.0</td>\n",
       "      <td>NaN</td>\n",
       "      <td>360.0</td>\n",
       "      <td>1.0</td>\n",
       "      <td>Urban</td>\n",
       "      <td>Y</td>\n",
       "    </tr>\n",
       "    <tr>\n",
       "      <th>1</th>\n",
       "      <td>LP001003</td>\n",
       "      <td>Male</td>\n",
       "      <td>Yes</td>\n",
       "      <td>1</td>\n",
       "      <td>Graduate</td>\n",
       "      <td>No</td>\n",
       "      <td>4583</td>\n",
       "      <td>1508.0</td>\n",
       "      <td>128.0</td>\n",
       "      <td>360.0</td>\n",
       "      <td>1.0</td>\n",
       "      <td>Rural</td>\n",
       "      <td>N</td>\n",
       "    </tr>\n",
       "    <tr>\n",
       "      <th>2</th>\n",
       "      <td>LP001005</td>\n",
       "      <td>Male</td>\n",
       "      <td>Yes</td>\n",
       "      <td>0</td>\n",
       "      <td>Graduate</td>\n",
       "      <td>Yes</td>\n",
       "      <td>3000</td>\n",
       "      <td>0.0</td>\n",
       "      <td>66.0</td>\n",
       "      <td>360.0</td>\n",
       "      <td>1.0</td>\n",
       "      <td>Urban</td>\n",
       "      <td>Y</td>\n",
       "    </tr>\n",
       "    <tr>\n",
       "      <th>3</th>\n",
       "      <td>LP001006</td>\n",
       "      <td>Male</td>\n",
       "      <td>Yes</td>\n",
       "      <td>0</td>\n",
       "      <td>Not Graduate</td>\n",
       "      <td>No</td>\n",
       "      <td>2583</td>\n",
       "      <td>2358.0</td>\n",
       "      <td>120.0</td>\n",
       "      <td>360.0</td>\n",
       "      <td>1.0</td>\n",
       "      <td>Urban</td>\n",
       "      <td>Y</td>\n",
       "    </tr>\n",
       "    <tr>\n",
       "      <th>4</th>\n",
       "      <td>LP001008</td>\n",
       "      <td>Male</td>\n",
       "      <td>No</td>\n",
       "      <td>0</td>\n",
       "      <td>Graduate</td>\n",
       "      <td>No</td>\n",
       "      <td>6000</td>\n",
       "      <td>0.0</td>\n",
       "      <td>141.0</td>\n",
       "      <td>360.0</td>\n",
       "      <td>1.0</td>\n",
       "      <td>Urban</td>\n",
       "      <td>Y</td>\n",
       "    </tr>\n",
       "  </tbody>\n",
       "</table>\n",
       "</div>"
      ],
      "text/plain": [
       "    Loan_ID Gender Married Dependents     Education Self_Employed  \\\n",
       "0  LP001002   Male      No          0      Graduate            No   \n",
       "1  LP001003   Male     Yes          1      Graduate            No   \n",
       "2  LP001005   Male     Yes          0      Graduate           Yes   \n",
       "3  LP001006   Male     Yes          0  Not Graduate            No   \n",
       "4  LP001008   Male      No          0      Graduate            No   \n",
       "\n",
       "   ApplicantIncome  CoapplicantIncome  LoanAmount  Loan_Amount_Term  \\\n",
       "0             5849                0.0         NaN             360.0   \n",
       "1             4583             1508.0       128.0             360.0   \n",
       "2             3000                0.0        66.0             360.0   \n",
       "3             2583             2358.0       120.0             360.0   \n",
       "4             6000                0.0       141.0             360.0   \n",
       "\n",
       "   Credit_History Property_Area Loan_Status  \n",
       "0             1.0         Urban           Y  \n",
       "1             1.0         Rural           N  \n",
       "2             1.0         Urban           Y  \n",
       "3             1.0         Urban           Y  \n",
       "4             1.0         Urban           Y  "
      ]
     },
     "execution_count": 2,
     "metadata": {},
     "output_type": "execute_result"
    }
   ],
   "source": [
    "data = pd.read_csv('loan-amount-train.csv')\n",
    "data.head()"
   ]
  },
  {
   "cell_type": "code",
   "execution_count": 3,
   "metadata": {},
   "outputs": [
    {
     "name": "stdout",
     "output_type": "stream",
     "text": [
      "<class 'pandas.core.frame.DataFrame'>\n",
      "RangeIndex: 614 entries, 0 to 613\n",
      "Data columns (total 13 columns):\n",
      " #   Column             Non-Null Count  Dtype  \n",
      "---  ------             --------------  -----  \n",
      " 0   Loan_ID            614 non-null    object \n",
      " 1   Gender             601 non-null    object \n",
      " 2   Married            611 non-null    object \n",
      " 3   Dependents         599 non-null    object \n",
      " 4   Education          614 non-null    object \n",
      " 5   Self_Employed      582 non-null    object \n",
      " 6   ApplicantIncome    614 non-null    int64  \n",
      " 7   CoapplicantIncome  614 non-null    float64\n",
      " 8   LoanAmount         592 non-null    float64\n",
      " 9   Loan_Amount_Term   600 non-null    float64\n",
      " 10  Credit_History     564 non-null    float64\n",
      " 11  Property_Area      614 non-null    object \n",
      " 12  Loan_Status        614 non-null    object \n",
      "dtypes: float64(4), int64(1), object(8)\n",
      "memory usage: 62.5+ KB\n"
     ]
    }
   ],
   "source": [
    "data.info()"
   ]
  },
  {
   "cell_type": "code",
   "execution_count": 4,
   "metadata": {},
   "outputs": [],
   "source": [
    "# formatting colum names and data for consistency\n",
    "data.columns = data.columns.str.lower()"
   ]
  },
  {
   "cell_type": "code",
   "execution_count": 5,
   "metadata": {},
   "outputs": [
    {
     "name": "stdout",
     "output_type": "stream",
     "text": [
      "original data shape: (614, 13) , new data shape:(614, 10) \n"
     ]
    }
   ],
   "source": [
    "# drop the ID, gender and loan status columns as they are irrelevant to our modeling\n",
    "df = data.drop(['loan_id', 'gender', 'loan_status'], axis=1)\n",
    "print('original data shape: {} , new data shape:{} '.format(data.shape, df.shape))"
   ]
  },
  {
   "cell_type": "code",
   "execution_count": 6,
   "metadata": {},
   "outputs": [
    {
     "data": {
      "text/plain": [
       "(array([ 72., 310., 143.,  33.,  15.,   6.,   5.,   3.,   3.,   2.]),\n",
       " array([  9. ,  78.1, 147.2, 216.3, 285.4, 354.5, 423.6, 492.7, 561.8,\n",
       "        630.9, 700. ]),\n",
       " <BarContainer object of 10 artists>)"
      ]
     },
     "execution_count": 6,
     "metadata": {},
     "output_type": "execute_result"
    },
    {
     "data": {
      "image/png": "[encoded data removed]",
      "text/plain": [
       "<Figure size 640x480 with 1 Axes>"
      ]
     },
     "metadata": {},
     "output_type": "display_data"
    }
   ],
   "source": [
    "# explore distribution of the target variable loanamount\n",
    "plt.hist(df['loanamount'], bins =10)"
   ]
  },
  {
   "cell_type": "code",
   "execution_count": 7,
   "metadata": {},
   "outputs": [
    {
     "data": {
      "text/plain": [
       "(array([  1.,   1.,   5.,  17.,  60., 211., 211.,  56.,  18.,  12.]),\n",
       " array([2.30258509, 2.72757737, 3.15256965, 3.57756193, 4.00255421,\n",
       "        4.42754649, 4.85253877, 5.27753105, 5.70252333, 6.12751561,\n",
       "        6.55250789]),\n",
       " <BarContainer object of 10 artists>)"
      ]
     },
     "execution_count": 7,
     "metadata": {},
     "output_type": "execute_result"
    },
    {
     "data": {
      "image/png": "[encoded data removed]",
      "text/plain": [
       "<Figure size 640x480 with 1 Axes>"
      ]
     },
     "metadata": {},
     "output_type": "display_data"
    }
   ],
   "source": [
    "# taking the log of our target variable, since a highly skewed data can impact our model\n",
    "target  = np.log1p(df['loanamount'])\n",
    "plt.hist(target, bins =10)"
   ]
  },
  {
   "cell_type": "code",
   "execution_count": 8,
   "metadata": {},
   "outputs": [
    {
     "data": {
      "text/plain": [
       "[nan,\n",
       " 4.859812404361672,\n",
       " 4.204692619390966,\n",
       " 4.795790545596741,\n",
       " 4.955827057601261,\n",
       " 5.5909869805108565,\n",
       " 4.564348191467836,\n",
       " 5.0689042022202315,\n",
       " 5.1298987149230735,\n",
       " 5.857933154483459,\n",
       " 4.2626798770413155,\n",
       " 4.700480365792417,\n",
       " 5.303304908059076,\n",
       " 4.74493212836325,\n",
       " 2.8903717578961645,\n",
       " 4.836281906951478,\n",
       " 4.61512051684126,\n",
       " 4.343805421853684,\n",
       " 4.897839799950911,\n",
       " 4.7535901911063645,\n",
       " 4.653960350157523,\n",
       " 5.755742213586912,\n",
       " 4.762173934797756,\n",
       " 4.727387818712341,\n",
       " 5.0238805208462765,\n",
       " 5.2574953720277815,\n",
       " 4.812184355372417,\n",
       " 4.709530201312334,\n",
       " 3.58351893845611,\n",
       " 4.795790545596741,\n",
       " 5.308267697401205,\n",
       " 4.31748811353631,\n",
       " 4.672828834461906,\n",
       " 4.74493212836325,\n",
       " 5.771441123130016,\n",
       " nan,\n",
       " 4.61512051684126,\n",
       " 4.976733742420574,\n",
       " 5.220355825078324,\n",
       " 4.709530201312334,\n",
       " 4.394449154672439,\n",
       " 3.871201010907891,\n",
       " 4.330733340286331,\n",
       " 4.90527477843843,\n",
       " 4.574710978503383,\n",
       " 4.48863636973214,\n",
       " 3.8066624897703196,\n",
       " 4.976733742420574,\n",
       " 4.795790545596741,\n",
       " 4.976733742420574,\n",
       " 4.61512051684126,\n",
       " 4.795790545596741,\n",
       " 4.727387818712341,\n",
       " 4.90527477843843,\n",
       " 5.659482215759621,\n",
       " 4.584967478670572,\n",
       " 4.574710978503383,\n",
       " 4.912654885736052,\n",
       " 5.198497031265826,\n",
       " 4.976733742420574,\n",
       " 4.795790545596741,\n",
       " 4.605170185988092,\n",
       " 5.111987788356544,\n",
       " nan,\n",
       " 4.762173934797756,\n",
       " 5.556828061699537,\n",
       " 4.844187086458591,\n",
       " 5.746203190540153,\n",
       " 4.836281906951478,\n",
       " 4.919980925828125,\n",
       " 5.153291594497779,\n",
       " 4.584967478670572,\n",
       " 4.406719247264253,\n",
       " 4.564348191467836,\n",
       " 5.236441962829949,\n",
       " 4.736198448394496,\n",
       " 5.176149732573829,\n",
       " 4.709530201312334,\n",
       " 5.198497031265826,\n",
       " 4.875197323201151,\n",
       " 4.718498871295094,\n",
       " nan,\n",
       " 5.123963979403259,\n",
       " 5.583496308781699,\n",
       " 3.9318256327243257,\n",
       " 4.919980925828125,\n",
       " 4.605170185988092,\n",
       " 4.653960350157523,\n",
       " 5.351858133476067,\n",
       " 5.170483995038151,\n",
       " 4.882801922586371,\n",
       " 5.241747015059643,\n",
       " 4.406719247264253,\n",
       " 4.812184355372417,\n",
       " 3.258096538021482,\n",
       " nan,\n",
       " 4.927253685157205,\n",
       " 3.9318256327243257,\n",
       " 4.7535901911063645,\n",
       " 4.882801922586371,\n",
       " 4.897839799950911,\n",
       " 5.0238805208462765,\n",
       " nan,\n",
       " nan,\n",
       " 5.081404364984463,\n",
       " 4.61512051684126,\n",
       " 5.420534999272286,\n",
       " 4.795790545596741,\n",
       " 5.37989735354046,\n",
       " 4.553876891600541,\n",
       " 4.919980925828125,\n",
       " 4.941642422609304,\n",
       " 5.030437921392435,\n",
       " nan,\n",
       " 4.77912349311153,\n",
       " 5.225746673713202,\n",
       " 5.043425116919247,\n",
       " 4.454347296253507,\n",
       " 5.170483995038151,\n",
       " 5.560681631015528,\n",
       " 5.198497031265826,\n",
       " 3.8066624897703196,\n",
       " 4.927253685157205,\n",
       " 4.406719247264253,\n",
       " 5.272999558563747,\n",
       " 4.543294782270004,\n",
       " 5.916202062607435,\n",
       " nan,\n",
       " 5.081404364984463,\n",
       " 5.209486152841421,\n",
       " 6.478509642208569,\n",
       " 4.31748811353631,\n",
       " 4.2626798770413155,\n",
       " 3.258096538021482,\n",
       " 4.634728988229636,\n",
       " 5.673323267171493,\n",
       " 4.442651256490317,\n",
       " 4.48863636973214,\n",
       " 5.493061443340548,\n",
       " 4.867534450455582,\n",
       " 5.225746673713202,\n",
       " 5.1298987149230735,\n",
       " 5.170483995038151,\n",
       " 4.812184355372417,\n",
       " 5.236441962829949,\n",
       " 4.61512051684126,\n",
       " 4.2626798770413155,\n",
       " 3.4339872044851463,\n",
       " 5.420534999272286,\n",
       " 4.836281906951478,\n",
       " 4.77912349311153,\n",
       " 5.030437921392435,\n",
       " 5.501258210544727,\n",
       " 4.736198448394496,\n",
       " 3.9318256327243257,\n",
       " 6.398594934535208,\n",
       " 5.081404364984463,\n",
       " 5.236441962829949,\n",
       " 4.795790545596741,\n",
       " 5.545177444479562,\n",
       " 4.59511985013459,\n",
       " 5.62040086571715,\n",
       " 4.804021044733257,\n",
       " 5.0689042022202315,\n",
       " 4.330733340286331,\n",
       " 5.209486152841421,\n",
       " 4.727387818712341,\n",
       " 4.867534450455582,\n",
       " 4.1588830833596715,\n",
       " 5.303304908059076,\n",
       " 4.564348191467836,\n",
       " 6.55250788703459,\n",
       " 4.406719247264253,\n",
       " 5.236441962829949,\n",
       " 4.477336814478207,\n",
       " 4.762173934797756,\n",
       " 4.624972813284271,\n",
       " 6.206575926724928,\n",
       " 4.762173934797756,\n",
       " 4.634728988229636,\n",
       " 5.198497031265826,\n",
       " 4.219507705176107,\n",
       " 4.30406509320417,\n",
       " 5.564520407322694,\n",
       " 4.6913478822291435,\n",
       " 4.795790545596741,\n",
       " 4.204692619390966,\n",
       " 4.07753744390572,\n",
       " 5.1298987149230735,\n",
       " 5.241747015059643,\n",
       " 3.8918202981106265,\n",
       " 5.10594547390058,\n",
       " 5.081404364984463,\n",
       " 4.343805421853684,\n",
       " 4.795790545596741,\n",
       " 5.14166355650266,\n",
       " 5.236441962829949,\n",
       " 4.795790545596741,\n",
       " 4.736198448394496,\n",
       " 4.430816798843313,\n",
       " 4.51085950651685,\n",
       " 5.117993812416755,\n",
       " nan,\n",
       " 4.912654885736052,\n",
       " 4.8283137373023015,\n",
       " 4.795790545596741,\n",
       " 4.394449154672439,\n",
       " 4.02535169073515,\n",
       " 4.0943445622221,\n",
       " 4.852030263919617,\n",
       " 5.3706380281276624,\n",
       " 4.859812404361672,\n",
       " 5.484796933490655,\n",
       " 4.875197323201151,\n",
       " 4.927253685157205,\n",
       " 4.61512051684126,\n",
       " 4.912654885736052,\n",
       " 4.882801922586371,\n",
       " 4.290459441148391,\n",
       " 4.852030263919617,\n",
       " 4.110873864173311,\n",
       " 4.762173934797756,\n",
       " 4.976733742420574,\n",
       " 5.170483995038151,\n",
       " 4.859812404361672,\n",
       " 5.14166355650266,\n",
       " 4.9344739331306915,\n",
       " 5.351858133476067,\n",
       " 5.0689042022202315,\n",
       " 5.303304908059076,\n",
       " 4.653960350157523,\n",
       " 3.7612001156935624,\n",
       " 4.795790545596741,\n",
       " 5.638354669333745,\n",
       " 4.948759890378168,\n",
       " 5.14166355650266,\n",
       " 5.545177444479562,\n",
       " 4.812184355372417,\n",
       " 4.727387818712341,\n",
       " 4.574710978503383,\n",
       " 4.795790545596741,\n",
       " 4.948759890378168,\n",
       " 5.049856007249537,\n",
       " 4.6913478822291435,\n",
       " 4.820281565605037,\n",
       " 4.795790545596741,\n",
       " 4.727387818712341,\n",
       " 4.927253685157205,\n",
       " 4.820281565605037,\n",
       " 4.51085950651685,\n",
       " 5.308267697401205,\n",
       " 4.9344739331306915,\n",
       " 4.653960350157523,\n",
       " 5.634789603169249,\n",
       " 5.262690188904886,\n",
       " 5.545177444479562,\n",
       " 4.7535901911063645,\n",
       " 4.553876891600541,\n",
       " 5.720311776607412,\n",
       " 4.859812404361672,\n",
       " 5.802118375377063,\n",
       " 4.90527477843843,\n",
       " 5.049856007249537,\n",
       " 4.795790545596741,\n",
       " 4.859812404361672,\n",
       " 5.0238805208462765,\n",
       " 5.017279836814924,\n",
       " 5.081404364984463,\n",
       " 4.912654885736052,\n",
       " 4.51085950651685,\n",
       " 3.4339872044851463,\n",
       " 4.919980925828125,\n",
       " 4.844187086458591,\n",
       " 5.017279836814924,\n",
       " 4.51085950651685,\n",
       " 4.7535901911063645,\n",
       " 5.337538079701318,\n",
       " 4.394449154672439,\n",
       " 6.07993319509559,\n",
       " 4.8283137373023015,\n",
       " 5.0689042022202315,\n",
       " 4.727387818712341,\n",
       " 4.3694478524670215,\n",
       " 4.007333185232471,\n",
       " nan,\n",
       " 4.499809670330265,\n",
       " 4.605170185988092,\n",
       " 4.795790545596741,\n",
       " 4.7535901911063645,\n",
       " 5.236441962829949,\n",
       " 4.941642422609304,\n",
       " 4.852030263919617,\n",
       " 4.90527477843843,\n",
       " 4.969813299576001,\n",
       " 5.153291594497779,\n",
       " 4.709530201312334,\n",
       " 5.303304908059076,\n",
       " 4.912654885736052,\n",
       " 5.0238805208462765,\n",
       " 4.736198448394496,\n",
       " 4.543294782270004,\n",
       " 4.663439094112067,\n",
       " 4.890349128221754,\n",
       " 4.574710978503383,\n",
       " 4.948759890378168,\n",
       " nan,\n",
       " 4.912654885736052,\n",
       " 4.653960350157523,\n",
       " 6.175867270105761,\n",
       " 5.225746673713202,\n",
       " 4.442651256490317,\n",
       " 4.718498871295094,\n",
       " 4.04305126783455,\n",
       " 4.976733742420574,\n",
       " 5.075173815233827,\n",
       " 4.718498871295094,\n",
       " 4.795790545596741,\n",
       " 4.48863636973214,\n",
       " 4.727387818712341,\n",
       " 5.049856007249537,\n",
       " 4.7535901911063645,\n",
       " 4.8283137373023015,\n",
       " nan,\n",
       " 4.890349128221754,\n",
       " 5.707110264748875,\n",
       " 5.932245187448011,\n",
       " 4.875197323201151,\n",
       " 5.220355825078324,\n",
       " 4.709530201312334,\n",
       " 4.219507705176107,\n",
       " 4.770684624465665,\n",
       " 4.59511985013459,\n",
       " 4.276666119016055,\n",
       " 6.19644412779452,\n",
       " 5.209486152841421,\n",
       " 4.2626798770413155,\n",
       " 5.081404364984463,\n",
       " 5.176149732573829,\n",
       " nan,\n",
       " 4.276666119016055,\n",
       " 5.159055299214529,\n",
       " 3.8501476017100584,\n",
       " 5.0689042022202315,\n",
       " 4.31748811353631,\n",
       " 4.836281906951478,\n",
       " 5.081404364984463,\n",
       " 5.030437921392435,\n",
       " 4.844187086458591,\n",
       " 5.560681631015528,\n",
       " 5.236441962829949,\n",
       " 5.43372200355424,\n",
       " 5.733341276897746,\n",
       " 4.564348191467836,\n",
       " 4.663439094112067,\n",
       " 4.875197323201151,\n",
       " 4.762173934797756,\n",
       " 5.111987788356544,\n",
       " 4.219507705176107,\n",
       " 4.61512051684126,\n",
       " 5.303304908059076,\n",
       " 4.406719247264253,\n",
       " 5.4680601411351315,\n",
       " 4.875197323201151,\n",
       " 4.564348191467836,\n",
       " 4.955827057601261,\n",
       " 4.897839799950911,\n",
       " 4.574710978503383,\n",
       " 4.8283137373023015,\n",
       " 5.170483995038151,\n",
       " 6.3473892096560105,\n",
       " 4.02535169073515,\n",
       " 5.049856007249537,\n",
       " 5.942799375126701,\n",
       " 4.718498871295094,\n",
       " 4.709530201312334,\n",
       " 4.795790545596741,\n",
       " 4.875197323201151,\n",
       " 4.875197323201151,\n",
       " 4.276666119016055,\n",
       " 4.875197323201151,\n",
       " 4.859812404361672,\n",
       " 5.6937321388027,\n",
       " 5.056245805348308,\n",
       " 4.859812404361672,\n",
       " 4.61512051684126,\n",
       " 4.736198448394496,\n",
       " 4.890349128221754,\n",
       " nan,\n",
       " 4.919980925828125,\n",
       " 4.836281906951478,\n",
       " 5.225746673713202,\n",
       " 5.62040086571715,\n",
       " 4.795790545596741,\n",
       " 4.736198448394496,\n",
       " 4.736198448394496,\n",
       " 4.912654885736052,\n",
       " 4.276666119016055,\n",
       " 4.564348191467836,\n",
       " 4.700480365792417,\n",
       " 4.6443908991413725,\n",
       " 3.828641396489095,\n",
       " 4.189654742026425,\n",
       " 4.6443908991413725,\n",
       " 3.9889840465642745,\n",
       " 5.272999558563747,\n",
       " 4.7535901911063645,\n",
       " 4.7535901911063645,\n",
       " 4.204692619390966,\n",
       " 5.030437921392435,\n",
       " 5.8888779583328805,\n",
       " 4.143134726391533,\n",
       " 5.081404364984463,\n",
       " 5.389071729816501,\n",
       " 4.709530201312334,\n",
       " 5.187385805840755,\n",
       " 4.110873864173311,\n",
       " 5.081404364984463,\n",
       " 5.480638923341991,\n",
       " 4.727387818712341,\n",
       " 4.9344739331306915,\n",
       " 4.9344739331306915,\n",
       " 4.394449154672439,\n",
       " 4.61512051684126,\n",
       " 4.709530201312334,\n",
       " 4.574710978503383,\n",
       " 4.804021044733257,\n",
       " 4.406719247264253,\n",
       " 4.897839799950911,\n",
       " 4.477336814478207,\n",
       " 4.110873864173311,\n",
       " 5.017279836814924,\n",
       " 4.663439094112067,\n",
       " 6.0063531596017325,\n",
       " 4.969813299576001,\n",
       " 4.61512051684126,\n",
       " nan,\n",
       " 3.9318256327243257,\n",
       " nan,\n",
       " 5.236441962829949,\n",
       " 4.9344739331306915,\n",
       " 5.236441962829949,\n",
       " 5.198497031265826,\n",
       " 5.003946305945459,\n",
       " 5.030437921392435,\n",
       " 5.170483995038151,\n",
       " 4.875197323201151,\n",
       " 4.709530201312334,\n",
       " 4.02535169073515,\n",
       " 5.017279836814924,\n",
       " 5.25227342804663,\n",
       " 4.836281906951478,\n",
       " 4.110873864173311,\n",
       " 5.0106352940962555,\n",
       " 4.51085950651685,\n",
       " 4.442651256490317,\n",
       " 4.574710978503383,\n",
       " 4.77912349311153,\n",
       " 5.159055299214529,\n",
       " 4.919980925828125,\n",
       " 5.081404364984463,\n",
       " 5.081404364984463,\n",
       " 4.859812404361672,\n",
       " 5.0369526024136295,\n",
       " 4.890349128221754,\n",
       " 4.59511985013459,\n",
       " 4.948759890378168,\n",
       " 4.2626798770413155,\n",
       " 4.709530201312334,\n",
       " 4.59511985013459,\n",
       " 4.709530201312334,\n",
       " 5.093750200806762,\n",
       " 4.736198448394496,\n",
       " 4.61512051684126,\n",
       " 4.543294782270004,\n",
       " 5.093750200806762,\n",
       " 5.017279836814924,\n",
       " 5.442417710521793,\n",
       " 4.890349128221754,\n",
       " 4.465908118654584,\n",
       " nan,\n",
       " 5.043425116919247,\n",
       " 4.736198448394496,\n",
       " 4.859812404361672,\n",
       " 5.459585514144159,\n",
       " 5.5093883366279774,\n",
       " 4.882801922586371,\n",
       " 4.394449154672439,\n",
       " 6.2166061010848646,\n",
       " 5.081404364984463,\n",
       " 4.330733340286331,\n",
       " 4.574710978503383,\n",
       " 5.231108616854587,\n",
       " 4.709530201312334,\n",
       " 5.420534999272286,\n",
       " 4.787491742782046,\n",
       " 4.663439094112067,\n",
       " 4.68213122712422,\n",
       " 4.718498871295094,\n",
       " 4.564348191467836,\n",
       " 5.3471075307174685,\n",
       " 4.736198448394496,\n",
       " 4.61512051684126,\n",
       " 5.342334251964811,\n",
       " 4.9344739331306915,\n",
       " 4.8283137373023015,\n",
       " 5.497168225293202,\n",
       " 6.175867270105761,\n",
       " 4.574710978503383,\n",
       " 5.241747015059643,\n",
       " 3.713572066704308,\n",
       " 4.61512051684126,\n",
       " 5.5254529391317835,\n",
       " 5.003946305945459,\n",
       " 4.2626798770413155,\n",
       " 5.7430031878094825,\n",
       " 5.017279836814924,\n",
       " 4.736198448394496,\n",
       " 4.820281565605037,\n",
       " 5.225746673713202,\n",
       " 4.564348191467836,\n",
       " 3.828641396489095,\n",
       " 4.02535169073515,\n",
       " 4.61512051684126,\n",
       " 6.175867270105761,\n",
       " nan,\n",
       " 5.993961427306569,\n",
       " 4.709530201312334,\n",
       " 5.087596335232384,\n",
       " 4.553876891600541,\n",
       " 4.875197323201151,\n",
       " 5.37989735354046,\n",
       " 4.61512051684126,\n",
       " 4.709530201312334,\n",
       " 5.2832037287379885,\n",
       " 4.836281906951478,\n",
       " 4.844187086458591,\n",
       " 5.783825182329737,\n",
       " 4.68213122712422,\n",
       " 4.204692619390966,\n",
       " 5.062595033026967,\n",
       " 4.948759890378168,\n",
       " 4.605170185988092,\n",
       " 4.564348191467836,\n",
       " 4.859812404361672,\n",
       " 4.634728988229636,\n",
       " 5.049856007249537,\n",
       " 4.394449154672439,\n",
       " 4.983606621708336,\n",
       " 4.6443908991413725,\n",
       " 4.709530201312334,\n",
       " nan,\n",
       " nan,\n",
       " 5.0689042022202315,\n",
       " 5.204006687076795,\n",
       " 4.890349128221754,\n",
       " 3.295836866004329,\n",
       " 4.442651256490317,\n",
       " 5.564520407322694,\n",
       " 5.093750200806762,\n",
       " 5.209486152841421,\n",
       " 4.6913478822291435,\n",
       " 6.398594934535208,\n",
       " 5.356586274672012,\n",
       " 4.890349128221754,\n",
       " 5.556828061699537,\n",
       " 4.795790545596741,\n",
       " 4.2626798770413155,\n",
       " 4.820281565605037,\n",
       " 2.302585092994046,\n",
       " 4.653960350157523,\n",
       " 5.231108616854587,\n",
       " 5.111987788356544,\n",
       " 5.62040086571715,\n",
       " 5.236441962829949,\n",
       " 5.017279836814924,\n",
       " 4.6913478822291435,\n",
       " 4.919980925828125,\n",
       " 4.709530201312334,\n",
       " 4.68213122712422,\n",
       " 5.087596335232384,\n",
       " 5.327876168789581,\n",
       " 4.51085950651685,\n",
       " 3.6109179126442243,\n",
       " 4.127134385045092,\n",
       " 4.990432586778736,\n",
       " 5.153291594497779,\n",
       " 4.653960350157523,\n",
       " 4.2626798770413155,\n",
       " 4.553876891600541,\n",
       " 4.672828834461906,\n",
       " 4.04305126783455,\n",
       " 5.327876168789581,\n",
       " 5.680172609017068,\n",
       " 4.962844630259907,\n",
       " 5.564520407322694,\n",
       " 4.709530201312334,\n",
       " 5.236441962829949,\n",
       " 4.48863636973214,\n",
       " 5.198497031265826,\n",
       " 5.262690188904886,\n",
       " 5.860786223465865,\n",
       " 5.049856007249537,\n",
       " 4.859812404361672,\n",
       " 5.153291594497779,\n",
       " 6.208590026096629,\n",
       " nan,\n",
       " 5.159055299214529,\n",
       " 5.062595033026967,\n",
       " 4.6913478822291435,\n",
       " 4.276666119016055,\n",
       " 3.713572066704308,\n",
       " 5.537334267018537,\n",
       " 5.236441962829949,\n",
       " 4.897839799950911]"
      ]
     },
     "execution_count": 8,
     "metadata": {},
     "output_type": "execute_result"
    }
   ],
   "source": [
    "list(target)"
   ]
  },
  {
   "cell_type": "code",
   "execution_count": 9,
   "metadata": {},
   "outputs": [
    {
     "data": {
      "text/plain": [
       "married               3\n",
       "dependents           15\n",
       "education             0\n",
       "self_employed        32\n",
       "applicantincome       0\n",
       "coapplicantincome     0\n",
       "loanamount           22\n",
       "loan_amount_term     14\n",
       "credit_history       50\n",
       "property_area         0\n",
       "dtype: int64"
      ]
     },
     "execution_count": 9,
     "metadata": {},
     "output_type": "execute_result"
    }
   ],
   "source": [
    "# checking for missing values. \n",
    "df.isnull().sum()"
   ]
  },
  {
   "cell_type": "code",
   "execution_count": 10,
   "metadata": {},
   "outputs": [
    {
     "data": {
      "text/plain": [
       "(614, 10)"
      ]
     },
     "execution_count": 10,
     "metadata": {},
     "output_type": "execute_result"
    }
   ],
   "source": [
    "# explore the shape of our data\n",
    "df.shape"
   ]
  },
  {
   "cell_type": "code",
   "execution_count": 14,
   "metadata": {},
   "outputs": [
    {
     "data": {
      "text/plain": [
       "array(['1.0', '1.0', '1.0', '1.0', '1.0', '1.0', '1.0', '0.0', '1.0',\n",
       "       '1.0', '1.0', '1.0', '1.0', '1.0', '1.0', '1.0', 'nan', '0.0',\n",
       "       '1.0', '1.0', '0.0', '1.0', '0.0', '0.0', 'nan', '1.0', '1.0',\n",
       "       '1.0', '1.0', '1.0', 'nan', '1.0', '1.0', '1.0', '1.0', '1.0',\n",
       "       '0.0', '1.0', '1.0', '1.0', '1.0', '1.0', 'nan', '1.0', '1.0',\n",
       "       '1.0', '1.0', '1.0', '0.0', '1.0', '1.0', '1.0', '1.0', '1.0',\n",
       "       '0.0', '1.0', '1.0', '1.0', '1.0', '1.0', '1.0', '1.0', '0.0',\n",
       "       '0.0', '0.0', '1.0', '0.0', '1.0', '1.0', '0.0', '1.0', '1.0',\n",
       "       '1.0', '0.0', '1.0', '1.0', '1.0', '1.0', '0.0', 'nan', '1.0',\n",
       "       '1.0', '1.0', 'nan', '1.0', '1.0', 'nan', '1.0', '1.0', '1.0',\n",
       "       '1.0', '1.0', '1.0', '1.0', '1.0', 'nan', '1.0', '1.0', '1.0',\n",
       "       '1.0', '1.0', '1.0', '1.0', '1.0', '1.0', '1.0', '1.0', '1.0',\n",
       "       '0.0', '1.0', '1.0', '1.0', '0.0', '1.0', '1.0', '1.0', '1.0',\n",
       "       'nan', '1.0', '1.0', '1.0', '1.0', '0.0', '1.0', '1.0', 'nan',\n",
       "       '1.0', '1.0', '0.0', 'nan', 'nan', '1.0', '1.0', '1.0', '1.0',\n",
       "       '1.0', '1.0', '1.0', '0.0', '1.0', '1.0', '1.0', '1.0', '1.0',\n",
       "       '1.0', '1.0', '1.0', '1.0', '1.0', '1.0', '0.0', '1.0', '1.0',\n",
       "       '1.0', '1.0', '0.0', 'nan', '1.0', '1.0', '1.0', '1.0', '1.0',\n",
       "       '0.0', '1.0', '1.0', '1.0', '1.0', '1.0', '0.0', '1.0', '1.0',\n",
       "       '1.0', '1.0', '1.0', '1.0', '1.0', '1.0', '0.0', '1.0', '0.0',\n",
       "       '0.0', 'nan', '1.0', '1.0', '1.0', '1.0', '0.0', 'nan', '1.0',\n",
       "       '1.0', '1.0', '1.0', '1.0', '1.0', '1.0', '1.0', '1.0', '1.0',\n",
       "       'nan', '1.0', '1.0', '0.0', '1.0', '1.0', '1.0', '1.0', '1.0',\n",
       "       '1.0', '1.0', '1.0', '1.0', '0.0', '1.0', '1.0', '1.0', '1.0',\n",
       "       '1.0', '1.0', '0.0', 'nan', '0.0', '1.0', '1.0', '1.0', '1.0',\n",
       "       '1.0', '1.0', '1.0', '1.0', '1.0', '1.0', '1.0', '1.0', '1.0',\n",
       "       '1.0', '1.0', 'nan', 'nan', '1.0', '1.0', '1.0', '1.0', '1.0',\n",
       "       '1.0', '1.0', '1.0', '1.0', '1.0', '1.0', '1.0', '0.0', '1.0',\n",
       "       '1.0', '1.0', '0.0', '1.0', '0.0', '1.0', '1.0', 'nan', 'nan',\n",
       "       '1.0', '1.0', '1.0', '1.0', '1.0', '1.0', '0.0', '1.0', '1.0',\n",
       "       '1.0', '1.0', '1.0', '1.0', '1.0', '1.0', '1.0', '1.0', '1.0',\n",
       "       'nan', '0.0', '1.0', '1.0', '1.0', '1.0', '1.0', '1.0', '1.0',\n",
       "       '1.0', '1.0', '1.0', '0.0', '1.0', '0.0', '1.0', '1.0', '1.0',\n",
       "       '1.0', '1.0', '1.0', '0.0', '1.0', '1.0', '1.0', '1.0', '1.0',\n",
       "       '1.0', '0.0', '1.0', 'nan', '1.0', '1.0', '1.0', 'nan', '1.0',\n",
       "       '1.0', '1.0', 'nan', 'nan', '1.0', '1.0', '1.0', '1.0', 'nan',\n",
       "       '1.0', '0.0', '0.0', '1.0', '1.0', '1.0', '1.0', '1.0', '1.0',\n",
       "       '1.0', '1.0', '1.0', '1.0', '1.0', '0.0', '1.0', '1.0', '1.0',\n",
       "       '1.0', '1.0', '1.0', '1.0', '0.0', '1.0', 'nan', '1.0', '1.0',\n",
       "       '1.0', '1.0', '0.0', '1.0', '1.0', '1.0', '1.0', '0.0', '1.0',\n",
       "       '1.0', '1.0', '1.0', 'nan', '1.0', '1.0', '1.0', '0.0', '1.0',\n",
       "       '1.0', '1.0', '1.0', '1.0', '0.0', '1.0', '1.0', '1.0', 'nan',\n",
       "       '1.0', '1.0', '1.0', '1.0', '1.0', '1.0', '1.0', '1.0', '1.0',\n",
       "       '0.0', '1.0', '1.0', '1.0', '1.0', 'nan', '1.0', '1.0', 'nan',\n",
       "       '0.0', '1.0', '1.0', '0.0', '0.0', '1.0', '1.0', '1.0', '1.0',\n",
       "       '1.0', '1.0', '1.0', '0.0', '0.0', '1.0', 'nan', '0.0', '1.0',\n",
       "       '0.0', '1.0', '1.0', '1.0', '1.0', '1.0', '1.0', '0.0', '1.0',\n",
       "       '0.0', '1.0', '1.0', '1.0', '1.0', '1.0', '1.0', '1.0', '0.0',\n",
       "       '1.0', '1.0', '1.0', '1.0', '1.0', '1.0', '0.0', '1.0', '1.0',\n",
       "       '1.0', '1.0', '1.0', 'nan', '1.0', '1.0', '1.0', '0.0', 'nan',\n",
       "       '0.0', 'nan', '0.0', '0.0', '1.0', '1.0', '1.0', '1.0', '1.0',\n",
       "       '1.0', 'nan', '1.0', '1.0', '1.0', '0.0', '1.0', '0.0', '1.0',\n",
       "       '1.0', '1.0', '1.0', '0.0', '1.0', 'nan', '1.0', '1.0', '1.0',\n",
       "       '0.0', '1.0', '1.0', '1.0', '1.0', '1.0', '1.0', '1.0', '1.0',\n",
       "       '0.0', '1.0', '1.0', '1.0', 'nan', 'nan', '1.0', '1.0', '0.0',\n",
       "       '1.0', '1.0', 'nan', '1.0', '0.0', '1.0', '1.0', '1.0', 'nan',\n",
       "       '1.0', '1.0', 'nan', '1.0', '1.0', '1.0', '1.0', '1.0', '1.0',\n",
       "       '1.0', '1.0', '1.0', '1.0', '0.0', '1.0', '1.0', '1.0', '1.0',\n",
       "       '1.0', '1.0', '1.0', '1.0', '1.0', '0.0', '1.0', '1.0', 'nan',\n",
       "       '1.0', '0.0', 'nan', '1.0', '1.0', '1.0', '1.0', '1.0', '1.0',\n",
       "       '1.0', '0.0', '1.0', '1.0', 'nan', '1.0', '1.0', '1.0', '0.0',\n",
       "       '1.0', '0.0', '1.0', '1.0', '0.0', '0.0', '1.0', 'nan', '1.0',\n",
       "       '1.0', '1.0', '1.0', '1.0', '1.0', '1.0', '0.0', 'nan', '1.0',\n",
       "       '0.0', '1.0', '0.0', '1.0', '0.0', '1.0', '1.0', '1.0', '1.0',\n",
       "       '0.0', '1.0', '1.0', '1.0', '1.0', '1.0', '1.0', 'nan', '0.0',\n",
       "       '1.0', '1.0', '1.0', '1.0', '0.0', '1.0', '1.0', '1.0', '1.0',\n",
       "       '1.0', '1.0', '1.0', '0.0', '1.0', '1.0', 'nan', '1.0', '1.0',\n",
       "       '1.0', '1.0', '1.0', '1.0', '1.0', '1.0', '1.0', '1.0', '1.0',\n",
       "       '1.0', '0.0'], dtype='<U32')"
      ]
     },
     "execution_count": 14,
     "metadata": {},
     "output_type": "execute_result"
    }
   ],
   "source": [
    "df['credit_history'].values.astype(str)"
   ]
  },
  {
   "cell_type": "code",
   "execution_count": 11,
   "metadata": {},
   "outputs": [
    {
     "data": {
      "text/plain": [
       "dtype('O')"
      ]
     },
     "execution_count": 11,
     "metadata": {},
     "output_type": "execute_result"
    }
   ],
   "source": [
    "# converting the credit history variable to categorical\n",
    "df['credit_history'] = df['credit_history'].astype('str')\n",
    "df['credit_history'].dtype"
   ]
  },
  {
   "cell_type": "code",
   "execution_count": 12,
   "metadata": {},
   "outputs": [
    {
     "data": {
      "text/plain": [
       "array(['1.0', '0.0', 'nan'], dtype=object)"
      ]
     },
     "execution_count": 12,
     "metadata": {},
     "output_type": "execute_result"
    }
   ],
   "source": [
    "df.credit_history.unique()"
   ]
  },
  {
   "cell_type": "code",
   "execution_count": 13,
   "metadata": {},
   "outputs": [
    {
     "data": {
      "text/plain": [
       "['married',\n",
       " 'dependents',\n",
       " 'education',\n",
       " 'self_employed',\n",
       " 'credit_history',\n",
       " 'property_area']"
      ]
     },
     "execution_count": 13,
     "metadata": {},
     "output_type": "execute_result"
    }
   ],
   "source": [
    "# obtaining cat_vars, num_vars, vars_with_na, cat_with_na, num_with_na\n",
    "cat_vars = [data for data in df.columns if df[data].dtype == 'object']\n",
    "cat_vars"
   ]
  },
  {
   "cell_type": "code",
   "execution_count": 14,
   "metadata": {},
   "outputs": [
    {
     "data": {
      "text/plain": [
       "['applicantincome', 'coapplicantincome', 'loan_amount_term']"
      ]
     },
     "execution_count": 14,
     "metadata": {},
     "output_type": "execute_result"
    }
   ],
   "source": [
    "num_vars = [data for data in df.columns if data not in cat_vars and data != 'loanamount']\n",
    "num_vars"
   ]
  },
  {
   "cell_type": "code",
   "execution_count": 15,
   "metadata": {},
   "outputs": [
    {
     "data": {
      "text/plain": [
       "['married', 'dependents', 'self_employed', 'loan_amount_term']"
      ]
     },
     "execution_count": 15,
     "metadata": {},
     "output_type": "execute_result"
    }
   ],
   "source": [
    "vars_with_na =  [var for var in df.columns if df[var].isnull().sum() > 0 \n",
    "                 and var != 'loanamount']\n",
    "vars_with_na"
   ]
  },
  {
   "cell_type": "code",
   "execution_count": 16,
   "metadata": {},
   "outputs": [
    {
     "data": {
      "text/plain": [
       "credit_history\n",
       "1.0    475\n",
       "0.0     89\n",
       "nan     50\n",
       "Name: count, dtype: int64"
      ]
     },
     "execution_count": 16,
     "metadata": {},
     "output_type": "execute_result"
    }
   ],
   "source": [
    "df['credit_history'].value_counts()"
   ]
  },
  {
   "cell_type": "code",
   "execution_count": 17,
   "metadata": {},
   "outputs": [
    {
     "name": "stdout",
     "output_type": "stream",
     "text": [
      "cat_with_na: ['married', 'dependents', 'self_employed'], num_with_na: ['loan_amount_term']\n"
     ]
    }
   ],
   "source": [
    "cat_with_na = [var for var in vars_with_na if df[var].dtype == 'object']\n",
    "num_with_na = [var for var in vars_with_na if var not in cat_with_na and var in num_vars]\n",
    "print('cat_with_na: {}, num_with_na: {}'.format(cat_with_na, num_with_na))"
   ]
  },
  {
   "cell_type": "code",
   "execution_count": 18,
   "metadata": {},
   "outputs": [
    {
     "data": {
      "text/plain": [
       "self_employed    0.052117\n",
       "dependents       0.024430\n",
       "married          0.004886\n",
       "dtype: float64"
      ]
     },
     "execution_count": 18,
     "metadata": {},
     "output_type": "execute_result"
    }
   ],
   "source": [
    "df[cat_with_na].isnull().mean().sort_values(ascending=False)"
   ]
  },
  {
   "cell_type": "code",
   "execution_count": 19,
   "metadata": {},
   "outputs": [
    {
     "data": {
      "text/plain": [
       "array(['No', 'No', 'Yes', 'No', 'No', 'Yes', 'No', 'No', 'No', 'No', 'No',\n",
       "       nan, 'No', 'No', 'No', 'No', 'No', 'No', 'No', nan, 'No', 'No',\n",
       "       'No', 'No', nan, 'Yes', 'No', 'No', 'No', nan, nan, 'No', 'Yes',\n",
       "       'No', 'No', 'No', 'No', 'No', 'No', 'No', 'No', 'No', 'No', 'No',\n",
       "       'Yes', 'No', 'No', 'No', 'No', 'No', 'No', 'No', 'No', 'No', 'Yes',\n",
       "       'No', 'No', 'No', 'No', 'No', 'No', 'No', 'Yes', 'No', 'No', 'No',\n",
       "       'No', 'No', 'Yes', 'No', 'No', 'Yes', 'No', 'No', 'Yes', 'No',\n",
       "       'No', 'Yes', 'No', 'Yes', 'No', 'Yes', 'No', 'No', 'No', 'No',\n",
       "       'No', 'No', 'No', 'No', 'No', 'No', 'No', 'No', 'No', nan, 'No',\n",
       "       'No', 'No', 'No', 'No', 'No', 'No', 'No', 'No', 'No', 'No', nan,\n",
       "       'No', 'No', 'No', nan, 'No', 'Yes', nan, 'No', 'No', 'No', 'No',\n",
       "       'No', 'No', 'No', 'No', 'No', 'No', 'No', 'No', 'No', 'Yes', 'No',\n",
       "       'Yes', 'No', 'No', 'Yes', 'No', 'No', 'No', 'Yes', 'No', 'No',\n",
       "       'No', 'No', 'Yes', 'No', 'No', 'No', 'No', 'No', 'No', 'No', 'No',\n",
       "       'Yes', 'No', 'No', 'No', 'No', 'No', 'No', nan, 'No', 'No', 'No',\n",
       "       'No', 'No', 'No', 'No', 'No', 'No', 'No', 'No', nan, 'No', 'No',\n",
       "       'No', 'Yes', 'No', 'No', 'No', 'No', 'No', 'No', 'No', 'No', 'No',\n",
       "       'No', 'Yes', 'Yes', 'No', 'Yes', 'No', 'No', 'No', 'No', 'No',\n",
       "       'No', 'No', 'No', 'No', 'No', 'Yes', 'No', 'No', 'No', 'No', 'No',\n",
       "       'No', 'No', 'No', 'No', 'No', 'No', 'No', 'Yes', 'Yes', 'No', 'No',\n",
       "       'No', 'No', nan, 'No', 'No', 'No', 'No', 'No', 'No', 'No', 'Yes',\n",
       "       'No', 'No', 'Yes', 'No', nan, 'No', 'No', 'No', 'No', nan, 'Yes',\n",
       "       'No', 'No', 'No', 'No', 'No', 'Yes', 'No', 'Yes', 'No', 'No', 'No',\n",
       "       'No', 'No', 'No', 'Yes', 'No', 'Yes', 'No', 'No', 'No', 'No', 'No',\n",
       "       'No', 'No', 'No', 'No', 'Yes', 'No', 'No', 'No', nan, 'No', 'No',\n",
       "       'No', 'No', 'No', 'No', 'No', 'No', 'No', 'No', 'No', 'Yes', 'No',\n",
       "       'No', 'No', 'No', 'No', 'Yes', 'No', 'No', 'No', 'No', 'No', 'No',\n",
       "       'No', 'No', nan, 'No', 'No', 'No', 'No', 'No', 'No', 'No', 'No',\n",
       "       'No', 'No', 'No', 'No', 'No', 'No', 'No', 'No', 'No', 'Yes', 'No',\n",
       "       'No', 'No', 'No', 'No', 'Yes', 'No', 'No', 'No', 'No', 'No', 'Yes',\n",
       "       'No', 'Yes', 'No', 'No', 'No', 'No', 'No', nan, 'Yes', 'Yes', nan,\n",
       "       'Yes', 'No', 'No', 'No', 'No', 'No', 'No', nan, 'No', 'No', 'No',\n",
       "       'No', 'No', 'No', 'No', 'No', 'Yes', 'No', 'No', 'No', 'No', 'No',\n",
       "       'No', 'No', 'No', 'No', 'No', 'Yes', 'No', 'No', 'No', 'No', 'No',\n",
       "       'Yes', 'No', 'Yes', 'No', nan, 'No', 'No', 'No', 'No', 'No', nan,\n",
       "       'No', 'No', 'Yes', 'No', nan, 'No', 'No', 'No', 'No', 'No', 'No',\n",
       "       'No', 'No', 'No', 'No', 'No', 'No', 'No', 'No', 'No', 'No', 'No',\n",
       "       'No', 'Yes', 'No', 'No', 'No', 'No', 'No', 'Yes', nan, 'No', 'No',\n",
       "       'No', 'No', 'No', 'Yes', 'No', 'No', 'No', 'No', 'No', 'No', 'No',\n",
       "       'No', 'No', 'No', 'No', 'No', 'Yes', 'No', nan, 'No', 'No', 'No',\n",
       "       'No', 'No', 'Yes', 'Yes', 'No', 'No', 'No', 'No', 'No', 'Yes',\n",
       "       'No', nan, 'No', 'Yes', 'No', 'No', 'No', 'No', 'Yes', 'No', 'No',\n",
       "       'No', 'No', 'No', 'Yes', 'No', 'No', nan, 'No', 'No', 'No', 'No',\n",
       "       nan, 'No', 'Yes', 'No', 'No', 'Yes', 'No', 'Yes', 'No', 'No',\n",
       "       'Yes', 'No', 'No', 'No', 'No', 'No', 'No', 'No', 'No', 'No', 'Yes',\n",
       "       'No', 'No', 'No', 'No', 'Yes', 'No', 'No', 'No', 'No', 'Yes', 'No',\n",
       "       'No', 'No', 'No', 'No', 'No', 'No', 'No', 'No', 'Yes', 'No', 'No',\n",
       "       'No', 'No', 'No', 'No', 'No', 'No', 'No', 'No', 'No', 'No', 'No',\n",
       "       'Yes', 'Yes', 'No', 'Yes', 'No', 'No', 'No', 'No', 'No', 'No',\n",
       "       'No', 'No', 'Yes', nan, 'No', 'No', 'No', 'No', 'No', 'No', nan,\n",
       "       'No', 'No', 'No', 'No', 'No', 'No', 'No', 'Yes', 'No', 'No', 'No',\n",
       "       'No', 'No', 'No', 'Yes', 'No', 'No', 'No', 'Yes', 'No', 'Yes',\n",
       "       'No', 'No', 'No', 'No', 'No', 'No', 'No', 'No', 'No', 'No', 'No',\n",
       "       'No', 'No', 'No', 'No', nan, 'No', 'No', 'No', 'No', 'No', 'No',\n",
       "       'No', 'No', 'No', 'Yes', 'No', 'Yes', 'Yes', 'No', 'Yes', 'No',\n",
       "       'Yes', 'No', 'Yes', 'No', nan, nan, 'No', 'No', 'No', 'No', 'No',\n",
       "       'No', 'No', 'No', 'No', 'No', 'No', 'Yes'], dtype=object)"
      ]
     },
     "execution_count": 19,
     "metadata": {},
     "output_type": "execute_result"
    }
   ],
   "source": [
    "df.self_employed.values"
   ]
  },
  {
   "cell_type": "code",
   "execution_count": 20,
   "metadata": {},
   "outputs": [
    {
     "data": {
      "text/plain": [
       "loan_amount_term    0.022801\n",
       "dtype: float64"
      ]
     },
     "execution_count": 20,
     "metadata": {},
     "output_type": "execute_result"
    }
   ],
   "source": [
    "df[num_with_na].isnull().mean().sort_values(ascending=False)"
   ]
  },
  {
   "cell_type": "code",
   "execution_count": 21,
   "metadata": {},
   "outputs": [
    {
     "data": {
      "text/plain": [
       "married           2\n",
       "dependents        4\n",
       "education         2\n",
       "self_employed     2\n",
       "credit_history    3\n",
       "property_area     3\n",
       "dtype: int64"
      ]
     },
     "execution_count": 21,
     "metadata": {},
     "output_type": "execute_result"
    }
   ],
   "source": [
    "# exploring the cardinality of our categorical variable\n",
    "df[cat_vars].nunique()"
   ]
  },
  {
   "cell_type": "markdown",
   "metadata": {},
   "source": [
    "From the above we do not need to worry about the cardinality of our data as it is within reasonable consideration, hence they cannot influence our \n",
    "model"
   ]
  },
  {
   "cell_type": "markdown",
   "metadata": {},
   "source": [
    "# Separate data into train and val"
   ]
  },
  {
   "cell_type": "code",
   "execution_count": 22,
   "metadata": {},
   "outputs": [
    {
     "data": {
      "text/plain": [
       "Index(['married', 'dependents', 'education', 'self_employed',\n",
       "       'applicantincome', 'coapplicantincome', 'loanamount',\n",
       "       'loan_amount_term', 'credit_history', 'property_area'],\n",
       "      dtype='object')"
      ]
     },
     "execution_count": 22,
     "metadata": {},
     "output_type": "execute_result"
    }
   ],
   "source": [
    "df.columns"
   ]
  },
  {
   "cell_type": "code",
   "execution_count": 23,
   "metadata": {},
   "outputs": [
    {
     "data": {
      "text/plain": [
       "((491, 9), (123, 9), (491,), (123,))"
      ]
     },
     "execution_count": 23,
     "metadata": {},
     "output_type": "execute_result"
    }
   ],
   "source": [
    "\n",
    "x_train,x_val,y_train,y_val = train_test_split(\n",
    "                                df.drop(['loanamount'], axis=1),\n",
    "                                df['loanamount'],\n",
    "                                random_state=1,\n",
    "                                test_size=.2\n",
    ")\n",
    "x_train.shape,x_val.shape, y_train.shape, y_val.shape "
   ]
  },
  {
   "cell_type": "markdown",
   "metadata": {},
   "source": [
    "# Transforming our Target variable for later use in modeling"
   ]
  },
  {
   "cell_type": "code",
   "execution_count": 24,
   "metadata": {},
   "outputs": [
    {
     "data": {
      "text/plain": [
       "110"
      ]
     },
     "execution_count": 24,
     "metadata": {},
     "output_type": "execute_result"
    }
   ],
   "source": [
    "# Obtain the mode of the target variabke and use it in filling missing data\n",
    "mode  = int(y_train.mode())\n",
    "mode"
   ]
  },
  {
   "cell_type": "code",
   "execution_count": 25,
   "metadata": {},
   "outputs": [],
   "source": [
    "\n",
    "# to address missing values in loanamount, which is  our target variable\n",
    "# we can replace nan with 0\n",
    "y_train = y_train.fillna(mode)\n",
    "y_val = y_val.fillna(mode)"
   ]
  },
  {
   "cell_type": "code",
   "execution_count": 26,
   "metadata": {},
   "outputs": [],
   "source": [
    "# we apply logarithm transformation\n",
    "y_train = np.log1p(y_train)\n",
    "y_val = np.log1p(y_val)"
   ]
  },
  {
   "cell_type": "markdown",
   "metadata": {},
   "source": [
    "# Performing the feature engineering procedures"
   ]
  },
  {
   "cell_type": "code",
   "execution_count": 27,
   "metadata": {},
   "outputs": [
    {
     "data": {
      "text/plain": [
       "loan_amount_term    0\n",
       "dtype: int64"
      ]
     },
     "execution_count": 27,
     "metadata": {},
     "output_type": "execute_result"
    }
   ],
   "source": [
    "# Handling missing data in our numerical variable\n",
    "# add binary missing indicator under a new column and then replace missing data with the median\n",
    "    # add missing indicator\n",
    "for var in num_with_na:\n",
    "    x_train[var+'_na'] = np.where(x_train[var].isnull(), 1, 0)\n",
    "    x_val[var+'_na'] = np.where(x_val[var].isnull(), 1, 0)\n",
    "\n",
    "    # compute the mode and replace na with the mode\n",
    "    # mode_val = int(x_train[var].mode())\n",
    "\n",
    "    # compute the median and replace na with the median\n",
    "    val = x_train[var].median()\n",
    "\n",
    "    x_train[var].fillna(val, inplace=True)\n",
    "    x_val[var].fillna(val, inplace=True)\n",
    "\n",
    "x_train[num_with_na].isnull().sum()"
   ]
  },
  {
   "cell_type": "code",
   "execution_count": 28,
   "metadata": {},
   "outputs": [],
   "source": [
    "# Handling missing values in categorical variables\n",
    "x_train[cat_with_na] = x_train[cat_with_na].fillna('missing')\n",
    "x_val[cat_with_na] = x_val[cat_with_na].fillna('missing')"
   ]
  },
  {
   "cell_type": "code",
   "execution_count": 36,
   "metadata": {},
   "outputs": [],
   "source": [
    "# In our credit history replace 1 with yes, 0 and 'nan' with no\n",
    "# create a map\n",
    "credit_history_map = {'1.0': 'yes', \n",
    "                      '0.0': 'no',\n",
    "                      'nan': 'no'}\n",
    "# replace the values\n",
    "x_train['credit_history'] =  x_train['credit_history'].map(credit_history_map)\n",
    "x_val['credit_history'] =  x_val['credit_history'].map(credit_history_map)\n"
   ]
  },
  {
   "cell_type": "code",
   "execution_count": 37,
   "metadata": {},
   "outputs": [
    {
     "data": {
      "text/plain": [
       "married                0\n",
       "dependents             0\n",
       "education              0\n",
       "self_employed          0\n",
       "applicantincome        0\n",
       "coapplicantincome      0\n",
       "loan_amount_term       0\n",
       "credit_history         0\n",
       "property_area          0\n",
       "loan_amount_term_na    0\n",
       "dtype: int64"
      ]
     },
     "execution_count": 37,
     "metadata": {},
     "output_type": "execute_result"
    }
   ],
   "source": [
    "#checking for any missing data in our train set\n",
    "x_train.isnull().sum()"
   ]
  },
  {
   "cell_type": "code",
   "execution_count": 38,
   "metadata": {},
   "outputs": [
    {
     "data": {
      "text/plain": [
       "married                0\n",
       "dependents             0\n",
       "education              0\n",
       "self_employed          0\n",
       "applicantincome        0\n",
       "coapplicantincome      0\n",
       "loan_amount_term       0\n",
       "credit_history         0\n",
       "property_area          0\n",
       "loan_amount_term_na    0\n",
       "dtype: int64"
      ]
     },
     "execution_count": 38,
     "metadata": {},
     "output_type": "execute_result"
    }
   ],
   "source": [
    "x_val.isnull().sum()"
   ]
  },
  {
   "cell_type": "code",
   "execution_count": 39,
   "metadata": {},
   "outputs": [
    {
     "data": {
      "text/plain": [
       "married           3\n",
       "dependents        5\n",
       "education         2\n",
       "self_employed     3\n",
       "credit_history    2\n",
       "property_area     3\n",
       "dtype: int64"
      ]
     },
     "execution_count": 39,
     "metadata": {},
     "output_type": "execute_result"
    }
   ],
   "source": [
    "x_train[cat_vars].nunique()"
   ]
  },
  {
   "cell_type": "code",
   "execution_count": 40,
   "metadata": {},
   "outputs": [
    {
     "data": {
      "text/plain": [
       "married           3\n",
       "dependents        5\n",
       "education         2\n",
       "self_employed     3\n",
       "credit_history    2\n",
       "property_area     3\n",
       "dtype: int64"
      ]
     },
     "execution_count": 40,
     "metadata": {},
     "output_type": "execute_result"
    }
   ],
   "source": [
    "x_val[cat_vars].nunique()"
   ]
  },
  {
   "cell_type": "code",
   "execution_count": 41,
   "metadata": {},
   "outputs": [
    {
     "data": {
      "text/plain": [
       "array(['No', 'Yes', 'missing'], dtype=object)"
      ]
     },
     "execution_count": 41,
     "metadata": {},
     "output_type": "execute_result"
    }
   ],
   "source": [
    "x_val['married'].unique()"
   ]
  },
  {
   "cell_type": "markdown",
   "metadata": {},
   "source": [
    "# Perform one hot encoding on our categorical variables. "
   ]
  },
  {
   "cell_type": "code",
   "execution_count": 47,
   "metadata": {},
   "outputs": [],
   "source": [
    "\n",
    "\n",
    "encoder = OrdinalEncoder(encoding_method='arbitrary', variables=cat_vars)\n",
    "\n",
    "x_train = encoder.fit_transform(x_train)\n",
    "\n",
    "x_val = encoder.transform(x_val)\n",
    "\n",
    "cat_dict = encoder.encoder_dict_\n"
   ]
  },
  {
   "cell_type": "code",
   "execution_count": 49,
   "metadata": {},
   "outputs": [
    {
     "data": {
      "text/html": [
       "<div>\n",
       "<style scoped>\n",
       "    .dataframe tbody tr th:only-of-type {\n",
       "        vertical-align: middle;\n",
       "    }\n",
       "\n",
       "    .dataframe tbody tr th {\n",
       "        vertical-align: top;\n",
       "    }\n",
       "\n",
       "    .dataframe thead th {\n",
       "        text-align: right;\n",
       "    }\n",
       "</style>\n",
       "<table border=\"1\" class=\"dataframe\">\n",
       "  <thead>\n",
       "    <tr style=\"text-align: right;\">\n",
       "      <th></th>\n",
       "      <th>married</th>\n",
       "      <th>dependents</th>\n",
       "      <th>education</th>\n",
       "      <th>self_employed</th>\n",
       "      <th>applicantincome</th>\n",
       "      <th>coapplicantincome</th>\n",
       "      <th>loan_amount_term</th>\n",
       "      <th>credit_history</th>\n",
       "      <th>property_area</th>\n",
       "      <th>loan_amount_term_na</th>\n",
       "    </tr>\n",
       "  </thead>\n",
       "  <tbody>\n",
       "    <tr>\n",
       "      <th>533</th>\n",
       "      <td>1</td>\n",
       "      <td>2</td>\n",
       "      <td>0</td>\n",
       "      <td>0</td>\n",
       "      <td>11250</td>\n",
       "      <td>0.0</td>\n",
       "      <td>360.0</td>\n",
       "      <td>0</td>\n",
       "      <td>0</td>\n",
       "      <td>0</td>\n",
       "    </tr>\n",
       "    <tr>\n",
       "      <th>544</th>\n",
       "      <td>0</td>\n",
       "      <td>1</td>\n",
       "      <td>1</td>\n",
       "      <td>0</td>\n",
       "      <td>3017</td>\n",
       "      <td>663.0</td>\n",
       "      <td>360.0</td>\n",
       "      <td>0</td>\n",
       "      <td>0</td>\n",
       "      <td>0</td>\n",
       "    </tr>\n",
       "    <tr>\n",
       "      <th>41</th>\n",
       "      <td>1</td>\n",
       "      <td>1</td>\n",
       "      <td>0</td>\n",
       "      <td>0</td>\n",
       "      <td>1800</td>\n",
       "      <td>1213.0</td>\n",
       "      <td>360.0</td>\n",
       "      <td>1</td>\n",
       "      <td>1</td>\n",
       "      <td>0</td>\n",
       "    </tr>\n",
       "    <tr>\n",
       "      <th>148</th>\n",
       "      <td>1</td>\n",
       "      <td>1</td>\n",
       "      <td>0</td>\n",
       "      <td>0</td>\n",
       "      <td>10000</td>\n",
       "      <td>1666.0</td>\n",
       "      <td>360.0</td>\n",
       "      <td>1</td>\n",
       "      <td>2</td>\n",
       "      <td>0</td>\n",
       "    </tr>\n",
       "    <tr>\n",
       "      <th>111</th>\n",
       "      <td>0</td>\n",
       "      <td>1</td>\n",
       "      <td>0</td>\n",
       "      <td>2</td>\n",
       "      <td>2929</td>\n",
       "      <td>2333.0</td>\n",
       "      <td>360.0</td>\n",
       "      <td>1</td>\n",
       "      <td>0</td>\n",
       "      <td>0</td>\n",
       "    </tr>\n",
       "    <tr>\n",
       "      <th>...</th>\n",
       "      <td>...</td>\n",
       "      <td>...</td>\n",
       "      <td>...</td>\n",
       "      <td>...</td>\n",
       "      <td>...</td>\n",
       "      <td>...</td>\n",
       "      <td>...</td>\n",
       "      <td>...</td>\n",
       "      <td>...</td>\n",
       "      <td>...</td>\n",
       "    </tr>\n",
       "    <tr>\n",
       "      <th>341</th>\n",
       "      <td>1</td>\n",
       "      <td>1</td>\n",
       "      <td>0</td>\n",
       "      <td>0</td>\n",
       "      <td>2378</td>\n",
       "      <td>0.0</td>\n",
       "      <td>360.0</td>\n",
       "      <td>1</td>\n",
       "      <td>2</td>\n",
       "      <td>0</td>\n",
       "    </tr>\n",
       "    <tr>\n",
       "      <th>404</th>\n",
       "      <td>1</td>\n",
       "      <td>1</td>\n",
       "      <td>0</td>\n",
       "      <td>1</td>\n",
       "      <td>7441</td>\n",
       "      <td>0.0</td>\n",
       "      <td>360.0</td>\n",
       "      <td>1</td>\n",
       "      <td>2</td>\n",
       "      <td>0</td>\n",
       "    </tr>\n",
       "    <tr>\n",
       "      <th>247</th>\n",
       "      <td>0</td>\n",
       "      <td>2</td>\n",
       "      <td>1</td>\n",
       "      <td>0</td>\n",
       "      <td>6608</td>\n",
       "      <td>0.0</td>\n",
       "      <td>180.0</td>\n",
       "      <td>1</td>\n",
       "      <td>1</td>\n",
       "      <td>0</td>\n",
       "    </tr>\n",
       "    <tr>\n",
       "      <th>464</th>\n",
       "      <td>1</td>\n",
       "      <td>1</td>\n",
       "      <td>0</td>\n",
       "      <td>0</td>\n",
       "      <td>4166</td>\n",
       "      <td>0.0</td>\n",
       "      <td>360.0</td>\n",
       "      <td>0</td>\n",
       "      <td>0</td>\n",
       "      <td>0</td>\n",
       "    </tr>\n",
       "    <tr>\n",
       "      <th>493</th>\n",
       "      <td>1</td>\n",
       "      <td>1</td>\n",
       "      <td>1</td>\n",
       "      <td>1</td>\n",
       "      <td>17263</td>\n",
       "      <td>0.0</td>\n",
       "      <td>360.0</td>\n",
       "      <td>1</td>\n",
       "      <td>0</td>\n",
       "      <td>0</td>\n",
       "    </tr>\n",
       "  </tbody>\n",
       "</table>\n",
       "<p>123 rows × 10 columns</p>\n",
       "</div>"
      ],
      "text/plain": [
       "     married  dependents  education  self_employed  applicantincome  \\\n",
       "533        1           2          0              0            11250   \n",
       "544        0           1          1              0             3017   \n",
       "41         1           1          0              0             1800   \n",
       "148        1           1          0              0            10000   \n",
       "111        0           1          0              2             2929   \n",
       "..       ...         ...        ...            ...              ...   \n",
       "341        1           1          0              0             2378   \n",
       "404        1           1          0              1             7441   \n",
       "247        0           2          1              0             6608   \n",
       "464        1           1          0              0             4166   \n",
       "493        1           1          1              1            17263   \n",
       "\n",
       "     coapplicantincome  loan_amount_term  credit_history  property_area  \\\n",
       "533                0.0             360.0               0              0   \n",
       "544              663.0             360.0               0              0   \n",
       "41              1213.0             360.0               1              1   \n",
       "148             1666.0             360.0               1              2   \n",
       "111             2333.0             360.0               1              0   \n",
       "..                 ...               ...             ...            ...   \n",
       "341                0.0             360.0               1              2   \n",
       "404                0.0             360.0               1              2   \n",
       "247                0.0             180.0               1              1   \n",
       "464                0.0             360.0               0              0   \n",
       "493                0.0             360.0               1              0   \n",
       "\n",
       "     loan_amount_term_na  \n",
       "533                    0  \n",
       "544                    0  \n",
       "41                     0  \n",
       "148                    0  \n",
       "111                    0  \n",
       "..                   ...  \n",
       "341                    0  \n",
       "404                    0  \n",
       "247                    0  \n",
       "464                    0  \n",
       "493                    0  \n",
       "\n",
       "[123 rows x 10 columns]"
      ]
     },
     "execution_count": 49,
     "metadata": {},
     "output_type": "execute_result"
    }
   ],
   "source": [
    "# visualize the transformed data\n",
    "x_val"
   ]
  },
  {
   "cell_type": "code",
   "execution_count": 50,
   "metadata": {},
   "outputs": [
    {
     "data": {
      "text/plain": [
       "{'married': {'Yes': 0, 'No': 1, 'missing': 2},\n",
       " 'dependents': {'2': 0, '0': 1, '1': 2, 'missing': 3, '3+': 4},\n",
       " 'education': {'Graduate': 0, 'Not Graduate': 1},\n",
       " 'self_employed': {'No': 0, 'Yes': 1, 'missing': 2},\n",
       " 'credit_history': {'no': 0, 'yes': 1},\n",
       " 'property_area': {'Semiurban': 0, 'Urban': 1, 'Rural': 2}}"
      ]
     },
     "execution_count": 50,
     "metadata": {},
     "output_type": "execute_result"
    }
   ],
   "source": [
    "# To be saved as an artifact in mlflow\n",
    "cat_dict"
   ]
  },
  {
   "cell_type": "markdown",
   "metadata": {},
   "source": [
    "## Save artifact - cat_dict"
   ]
  },
  {
   "cell_type": "code",
   "execution_count": 51,
   "metadata": {},
   "outputs": [
    {
     "data": {
      "text/plain": [
       "['married',\n",
       " 'dependents',\n",
       " 'education',\n",
       " 'self_employed',\n",
       " 'applicantincome',\n",
       " 'coapplicantincome',\n",
       " 'loan_amount_term',\n",
       " 'credit_history',\n",
       " 'property_area',\n",
       " 'loan_amount_term_na']"
      ]
     },
     "execution_count": 51,
     "metadata": {},
     "output_type": "execute_result"
    }
   ],
   "source": [
    "list(x_train.columns)"
   ]
  },
  {
   "cell_type": "code",
   "execution_count": 52,
   "metadata": {},
   "outputs": [
    {
     "data": {
      "text/plain": [
       "['married',\n",
       " 'dependents',\n",
       " 'education',\n",
       " 'self_employed',\n",
       " 'applicantincome',\n",
       " 'coapplicantincome',\n",
       " 'loan_amount_term',\n",
       " 'credit_history',\n",
       " 'property_area',\n",
       " 'loan_amount_term_na']"
      ]
     },
     "execution_count": 52,
     "metadata": {},
     "output_type": "execute_result"
    }
   ],
   "source": [
    "list(x_val.columns)"
   ]
  },
  {
   "cell_type": "markdown",
   "metadata": {},
   "source": [
    "# Performing numerical transformation on our numerical variables that are skewed"
   ]
  },
  {
   "cell_type": "code",
   "execution_count": 53,
   "metadata": {},
   "outputs": [
    {
     "data": {
      "text/plain": [
       "['applicantincome', 'coapplicantincome', 'loan_amount_term']"
      ]
     },
     "execution_count": 53,
     "metadata": {},
     "output_type": "execute_result"
    }
   ],
   "source": [
    "num_vars"
   ]
  },
  {
   "cell_type": "code",
   "execution_count": 54,
   "metadata": {},
   "outputs": [
    {
     "data": {
      "text/plain": [
       "['applicantincome', 'coapplicantincome']"
      ]
     },
     "execution_count": 54,
     "metadata": {},
     "output_type": "execute_result"
    }
   ],
   "source": [
    "# applying logarithmic transformation to applicant and co applicant income\n",
    "cont_num_vars = [var for var in num_vars if len(df[var].unique())>20]  \n",
    "cont_num_vars"
   ]
  },
  {
   "cell_type": "code",
   "execution_count": 55,
   "metadata": {},
   "outputs": [
    {
     "data": {
      "text/plain": [
       "['loan_amount_term']"
      ]
     },
     "execution_count": 55,
     "metadata": {},
     "output_type": "execute_result"
    }
   ],
   "source": [
    "disc_num_vars =  [var for var in num_vars if var not in cont_num_vars]\n",
    "disc_num_vars"
   ]
  },
  {
   "cell_type": "code",
   "execution_count": 56,
   "metadata": {},
   "outputs": [],
   "source": [
    "# taking the natural logarithm of our applicant income and coapplicant income\n",
    "x_train[cont_num_vars] = np.log1p(x_train[cont_num_vars])\n",
    "x_val[cont_num_vars] = np.log1p(x_val[cont_num_vars])"
   ]
  },
  {
   "cell_type": "markdown",
   "metadata": {},
   "source": [
    "# Feature Scaling"
   ]
  },
  {
   "cell_type": "code",
   "execution_count": 58,
   "metadata": {},
   "outputs": [],
   "source": [
    "scalar = MinMaxScaler()\n",
    "\n",
    "scalar.fit(x_train)\n",
    "\n",
    "x_train = scalar.transform(x_train)\n",
    "x_val = scalar.transform(x_val)\n",
    "\n",
    "feature_names = scalar.feature_names_in_"
   ]
  },
  {
   "cell_type": "code",
   "execution_count": 60,
   "metadata": {},
   "outputs": [
    {
     "data": {
      "text/plain": [
       "['married',\n",
       " 'dependents',\n",
       " 'education',\n",
       " 'self_employed',\n",
       " 'applicantincome',\n",
       " 'coapplicantincome',\n",
       " 'loan_amount_term',\n",
       " 'credit_history',\n",
       " 'property_area',\n",
       " 'loan_amount_term_na']"
      ]
     },
     "execution_count": 60,
     "metadata": {},
     "output_type": "execute_result"
    }
   ],
   "source": [
    "list(feature_names)"
   ]
  },
  {
   "cell_type": "code",
   "execution_count": 69,
   "metadata": {},
   "outputs": [
    {
     "data": {
      "text/html": [
       "<div>\n",
       "<style scoped>\n",
       "    .dataframe tbody tr th:only-of-type {\n",
       "        vertical-align: middle;\n",
       "    }\n",
       "\n",
       "    .dataframe tbody tr th {\n",
       "        vertical-align: top;\n",
       "    }\n",
       "\n",
       "    .dataframe thead th {\n",
       "        text-align: right;\n",
       "    }\n",
       "</style>\n",
       "<table border=\"1\" class=\"dataframe\">\n",
       "  <thead>\n",
       "    <tr style=\"text-align: right;\">\n",
       "      <th></th>\n",
       "      <th>married</th>\n",
       "      <th>dependents</th>\n",
       "      <th>education</th>\n",
       "      <th>self_employed</th>\n",
       "      <th>applicantincome</th>\n",
       "      <th>coapplicantincome</th>\n",
       "      <th>loan_amount_term</th>\n",
       "      <th>credit_history</th>\n",
       "      <th>property_area</th>\n",
       "      <th>loan_amount_term_na</th>\n",
       "    </tr>\n",
       "  </thead>\n",
       "  <tbody>\n",
       "    <tr>\n",
       "      <th>0</th>\n",
       "      <td>0.0</td>\n",
       "      <td>0.00</td>\n",
       "      <td>0.0</td>\n",
       "      <td>0.0</td>\n",
       "      <td>0.536570</td>\n",
       "      <td>0.000000</td>\n",
       "      <td>0.74359</td>\n",
       "      <td>0.0</td>\n",
       "      <td>0.0</td>\n",
       "      <td>0.0</td>\n",
       "    </tr>\n",
       "    <tr>\n",
       "      <th>1</th>\n",
       "      <td>0.5</td>\n",
       "      <td>0.25</td>\n",
       "      <td>0.0</td>\n",
       "      <td>0.0</td>\n",
       "      <td>0.503896</td>\n",
       "      <td>0.000000</td>\n",
       "      <td>0.74359</td>\n",
       "      <td>1.0</td>\n",
       "      <td>0.5</td>\n",
       "      <td>0.0</td>\n",
       "    </tr>\n",
       "    <tr>\n",
       "      <th>2</th>\n",
       "      <td>0.0</td>\n",
       "      <td>0.25</td>\n",
       "      <td>0.0</td>\n",
       "      <td>0.0</td>\n",
       "      <td>0.534129</td>\n",
       "      <td>0.733694</td>\n",
       "      <td>0.74359</td>\n",
       "      <td>1.0</td>\n",
       "      <td>0.5</td>\n",
       "      <td>0.0</td>\n",
       "    </tr>\n",
       "    <tr>\n",
       "      <th>3</th>\n",
       "      <td>0.5</td>\n",
       "      <td>0.25</td>\n",
       "      <td>0.0</td>\n",
       "      <td>0.0</td>\n",
       "      <td>0.470256</td>\n",
       "      <td>0.000000</td>\n",
       "      <td>0.74359</td>\n",
       "      <td>1.0</td>\n",
       "      <td>1.0</td>\n",
       "      <td>0.0</td>\n",
       "    </tr>\n",
       "    <tr>\n",
       "      <th>4</th>\n",
       "      <td>0.5</td>\n",
       "      <td>0.25</td>\n",
       "      <td>0.0</td>\n",
       "      <td>0.0</td>\n",
       "      <td>0.532913</td>\n",
       "      <td>0.000000</td>\n",
       "      <td>0.74359</td>\n",
       "      <td>0.0</td>\n",
       "      <td>0.0</td>\n",
       "      <td>0.0</td>\n",
       "    </tr>\n",
       "  </tbody>\n",
       "</table>\n",
       "</div>"
      ],
      "text/plain": [
       "   married  dependents  education  self_employed  applicantincome  \\\n",
       "0      0.0        0.00        0.0            0.0         0.536570   \n",
       "1      0.5        0.25        0.0            0.0         0.503896   \n",
       "2      0.0        0.25        0.0            0.0         0.534129   \n",
       "3      0.5        0.25        0.0            0.0         0.470256   \n",
       "4      0.5        0.25        0.0            0.0         0.532913   \n",
       "\n",
       "   coapplicantincome  loan_amount_term  credit_history  property_area  \\\n",
       "0           0.000000           0.74359             0.0            0.0   \n",
       "1           0.000000           0.74359             1.0            0.5   \n",
       "2           0.733694           0.74359             1.0            0.5   \n",
       "3           0.000000           0.74359             1.0            1.0   \n",
       "4           0.000000           0.74359             0.0            0.0   \n",
       "\n",
       "   loan_amount_term_na  \n",
       "0                  0.0  \n",
       "1                  0.0  \n",
       "2                  0.0  \n",
       "3                  0.0  \n",
       "4                  0.0  "
      ]
     },
     "execution_count": 69,
     "metadata": {},
     "output_type": "execute_result"
    }
   ],
   "source": [
    "train_transformed_data = pd.DataFrame(x_train, columns=feature_names)\n",
    "val_transformed_data = pd.DataFrame(x_val, columns=feature_names)\n",
    "train_transformed_data.head()"
   ]
  },
  {
   "cell_type": "code",
   "execution_count": null,
   "metadata": {},
   "outputs": [
    {
     "data": {
      "text/plain": [
       "Index(['applicantincome', 'coapplicantincome'], dtype='object')"
      ]
     },
     "metadata": {},
     "output_type": "display_data"
    }
   ],
   "source": [
    "\n",
    "# check for the most predictive features\n",
    "from sklearn.feature_selection import SelectFromModel\n",
    "\n",
    "\n",
    "sel_ = SelectFromModel(ElasticNet(alpha=0.001, l1_ratio= 0.6, tol= 0.00001, random_state=1))\n",
    "sel_.fit(train_transformed_data, y_train)\n",
    "\n",
    "sel_.get_support()\n",
    "selected_feats = train_transformed_data.columns[(sel_.get_support())]\n",
    "selected_feats"
   ]
  },
  {
   "cell_type": "markdown",
   "metadata": {},
   "source": [
    "## Training and Tracking with ElasticNet"
   ]
  },
  {
   "cell_type": "code",
   "execution_count": 88,
   "metadata": {},
   "outputs": [
    {
     "name": "stderr",
     "output_type": "stream",
     "text": [
      "2024/06/08 23:52:26 INFO mlflow.tracking.fluent: Experiment with name 'loan_amount_estimation_experiment_elasticnets' does not exist. Creating a new experiment.\n"
     ]
    },
    {
     "name": "stdout",
     "output_type": "stream",
     "text": [
      "100%|██████████| 20/20 [00:44<00:00,  2.21s/trial, best loss: 0.4210447101948342] \n",
      "{'alpha': 0.008137332790482846, 'l1_ratio': 0.6582783353374559, 'tol': 0.007163746501903458}\n"
     ]
    }
   ],
   "source": [
    "mlflow.set_experiment(\"loan_amount_estimation_experiment_elasticnets\")\n",
    "\n",
    "from hyperopt import fmin, tpe, hp, STATUS_OK, Trials\n",
    "# alpha, l1_ratio, tol, random_state\n",
    "# Define the objective function to be optimized\n",
    "def objective(params):\n",
    "    with mlflow.start_run():\n",
    "\n",
    "        mlflow.set_tag(\"model\", \"elasticNet\")\n",
    "        mlflow.log_params(params)\n",
    "        \n",
    "        estimator = ElasticNet(max_iter=100)\n",
    "        estimator.set_params(**params)\n",
    "        final_train = train_transformed_data[['applicantincome', 'coapplicantincome']]\n",
    "        final_train_values = final_train.values\n",
    "\n",
    "        estimator.fit(final_train_values, y_train)\n",
    "\n",
    "        pred_y_train =  estimator.predict(final_train_values)\n",
    "        rmse = root_mean_squared_error(y_train, pred_y_train)\n",
    "        r2 = r2_score(y_train, pred_y_train)\n",
    "        mlflow.log_metric(\"rmse\", rmse)\n",
    "        mlflow.log_metric(\"r2\", r2)\n",
    "        mlflow.sklearn.log_model(estimator, \"model\")\n",
    "\n",
    "    mlflow.end_run()\n",
    "\n",
    "    return {'loss': rmse, 'r2': r2, 'status': STATUS_OK}\n",
    "\n",
    "\n",
    "# Define the search space for hyperparameter optimization\n",
    "search_space = {\n",
    "    'alpha': hp.loguniform('alpha', -5, -1),\n",
    "    'l1_ratio': hp.loguniform('l1_ratio', -3, 0),\n",
    "    'tol': hp.loguniform('tol', -6, -1),\n",
    "    'random_state': 1\n",
    "}\n",
    "\n",
    "# Run the hyperparameter optimization\n",
    "best_result = fmin(\n",
    "    fn=objective,\n",
    "    space=search_space,\n",
    "    algo=tpe.suggest,\n",
    "    max_evals=20,\n",
    "    trials=Trials()\n",
    ")\n",
    "\n",
    "print(best_result)"
   ]
  },
  {
   "cell_type": "code",
   "execution_count": null,
   "metadata": {},
   "outputs": [
    {
     "data": {
      "text/plain": [
       "Index(['married', 'dependents', 'education', 'self_employed',\n",
       "       'applicantincome', 'coapplicantincome', 'loan_amount_term',\n",
       "       'credit_history', 'property_area', 'loan_amount_term_na'],\n",
       "      dtype='object')"
      ]
     },
     "metadata": {},
     "output_type": "display_data"
    }
   ],
   "source": [
    "\n",
    "sel1_ = SelectFromModel(LassoCV(eps =  0.0001, cv = 5, tol= 0.00001, random_state=1))\n",
    "sel1_.fit(train_transformed_data, y_train)\n",
    "\n",
    "sel1_.get_support()\n",
    "selected_feats = train_transformed_data.columns[(sel1_.get_support())]\n",
    "selected_feats"
   ]
  },
  {
   "cell_type": "markdown",
   "metadata": {},
   "source": [
    "# Training, tracking and optimizing parameter using LassoCV"
   ]
  },
  {
   "cell_type": "code",
   "execution_count": 89,
   "metadata": {},
   "outputs": [
    {
     "name": "stderr",
     "output_type": "stream",
     "text": [
      "2024/06/08 23:53:16 INFO mlflow.tracking.fluent: Experiment with name 'loan_amount_estimation_experiment_lassoCV' does not exist. Creating a new experiment.\n"
     ]
    },
    {
     "name": "stdout",
     "output_type": "stream",
     "text": [
      "100%|██████████| 20/20 [00:42<00:00,  2.14s/trial, best loss: 0.39481911293572647]\n",
      "{'eps': 0.007528030090084767, 'tol': 0.007421354671366326}\n"
     ]
    }
   ],
   "source": [
    "mlflow.set_experiment(\"loan_amount_estimation_experiment_lassoCV\")\n",
    "\n",
    "from hyperopt import fmin, tpe, hp, STATUS_OK, Trials\n",
    "# alpha, l1_ratio, tol, random_state\n",
    "# Define the objective function to be optimized\n",
    "def objective(params):\n",
    "    with mlflow.start_run():\n",
    "\n",
    "        mlflow.set_tag(\"model\", \"lassoCV\")\n",
    "        mlflow.log_params(params)\n",
    "        \n",
    "        estimator = LassoCV(max_iter=100)\n",
    "        estimator.set_params(**params)\n",
    "        final_train = train_transformed_data.values\n",
    "\n",
    "        estimator.fit(final_train, y_train)\n",
    "\n",
    "        pred_y_train =  estimator.predict(final_train)\n",
    "        rmse = root_mean_squared_error(y_train, pred_y_train)\n",
    "        r2 = r2_score(y_train, pred_y_train)\n",
    "        mlflow.log_metric(\"rmse\", rmse)\n",
    "        mlflow.log_metric(\"r2\", r2)\n",
    "        mlflow.sklearn.log_model(estimator, \"model\")\n",
    "\n",
    "    mlflow.end_run()\n",
    "\n",
    "    return {'loss': rmse, 'r2': r2, 'status': STATUS_OK}\n",
    "\n",
    "\n",
    "# Define the search space for hyperparameter optimization\n",
    "search_space = {\n",
    "    'eps': hp.loguniform('eps', -5, -1),\n",
    "    'cv': 5,\n",
    "    'tol': hp.loguniform('tol', -6, -1),\n",
    "    'random_state': 1\n",
    "}\n",
    "\n",
    "# Run the hyperparameter optimization\n",
    "best_result = fmin(\n",
    "    fn=objective,\n",
    "    space=search_space,\n",
    "    algo=tpe.suggest,\n",
    "    max_evals=20,\n",
    "    trials=Trials()\n",
    ")\n",
    "\n",
    "print(best_result)"
   ]
  },
  {
   "cell_type": "code",
   "execution_count": 90,
   "metadata": {},
   "outputs": [
    {
     "data": {
      "text/plain": [
       "Index(['applicantincome', 'coapplicantincome', 'loan_amount_term'], dtype='object')"
      ]
     },
     "execution_count": 90,
     "metadata": {},
     "output_type": "execute_result"
    }
   ],
   "source": [
    "\n",
    "sel1_ = SelectFromModel(SGDRegressor(alpha =  0.0001, l1_ratio= 0.010, tol= 0.00001, eta0= 0.001, random_state=1))\n",
    "sel1_.fit(train_transformed_data, y_train)\n",
    "\n",
    "sel1_.get_support()\n",
    "selected_feats = train_transformed_data.columns[(sel1_.get_support())]\n",
    "selected_feats"
   ]
  },
  {
   "cell_type": "markdown",
   "metadata": {},
   "source": [
    "## Training, tracking and optimizing parameters using SGDRegressor"
   ]
  },
  {
   "cell_type": "code",
   "execution_count": 96,
   "metadata": {},
   "outputs": [
    {
     "name": "stderr",
     "output_type": "stream",
     "text": [
      "2024/06/12 07:31:09 INFO mlflow.tracking.fluent: Experiment with name 'loan_amount_estimation_experiment_sgdregressor' does not exist. Creating a new experiment.\n"
     ]
    },
    {
     "name": "stdout",
     "output_type": "stream",
     "text": [
      "100%|██████████| 20/20 [00:44<00:00,  2.21s/trial, best loss: 0.4189422241464145]\n",
      "{'alpha': 0.007122426144380733, 'eta0': 0.1343130866052812, 'l1_ratio': 0.03994231837569232, 'tol': 0.018589570820787066}\n"
     ]
    }
   ],
   "source": [
    "mlflow.set_experiment(\"loan_amount_estimation_experiment_sgdregressor\")\n",
    "\n",
    "from hyperopt import fmin, tpe, hp, STATUS_OK, Trials\n",
    "# alpha, l1_ratio, tol, eta0, random_state\n",
    "# Define the objective function to be optimized\n",
    "def objective(params):\n",
    "    with mlflow.start_run():\n",
    "\n",
    "        mlflow.set_tag(\"model\", \"elasticNet\")\n",
    "        mlflow.log_params(params)\n",
    "        mlflow.log_param(key='train_data', value=\"loan-amount-train-1-june-2024.csv\")\n",
    "\n",
    "        \n",
    "        estimator = SGDRegressor(max_iter=100)\n",
    "        estimator.set_params(**params)\n",
    "        final_train = train_transformed_data[['applicantincome', 'coapplicantincome', 'loan_amount_term']]\n",
    "        final_train_values = final_train.values\n",
    "\n",
    "        estimator.fit(final_train_values, y_train)\n",
    "\n",
    "        pred_y_train =  estimator.predict(final_train_values)\n",
    "        rmse = root_mean_squared_error(y_train, pred_y_train)\n",
    "        r2 = r2_score(y_train, pred_y_train)\n",
    "        mlflow.log_metric(\"rmse\", rmse)\n",
    "        mlflow.log_metric(\"r2\", r2)\n",
    "        mlflow.sklearn.log_model(estimator, \"model\")\n",
    "\n",
    "    mlflow.end_run()\n",
    "\n",
    "    return {'loss': rmse, 'r2': r2, 'status': STATUS_OK}\n",
    "\n",
    "\n",
    "# Define the search space for hyperparameter optimization\n",
    "search_space = {\n",
    "    'alpha': hp.loguniform('alpha', -5, -1),\n",
    "    'l1_ratio': hp.loguniform('l1_ratio', -5, 0),\n",
    "    'tol': hp.loguniform('tol', -6, -1),\n",
    "    'eta0': hp.loguniform('eta0', -5, -1),\n",
    "    'random_state': 1\n",
    "}\n",
    "\n",
    "# Run the hyperparameter optimization\n",
    "best_result = fmin(\n",
    "    fn=objective,\n",
    "    space=search_space,\n",
    "    algo=tpe.suggest,\n",
    "    max_evals=20,\n",
    "    trials=Trials()\n",
    ")\n",
    "\n",
    "print(best_result)"
   ]
  },
  {
   "cell_type": "markdown",
   "metadata": {},
   "source": [
    "# Make predictions using the model with the best performance"
   ]
  },
  {
   "cell_type": "code",
   "execution_count": 97,
   "metadata": {},
   "outputs": [
    {
     "name": "stderr",
     "output_type": "stream",
     "text": [
      "Downloading artifacts: 100%|██████████| 9/9 [00:00<00:00, 91.89it/s]\n"
     ]
    }
   ],
   "source": [
    "# load the model from mlflow server repository\n",
    "logged_model = 'runs:/c49af2c506444b1fbfb2d9ad1fcf0749/model'\n",
    "\n",
    "# Load model as a PyFuncModel.\n",
    "loaded_model = mlflow.pyfunc.load_model(logged_model)\n",
    "\n",
    "# Predict on a Pandas DataFrame.\n",
    "pred_y_train =  loaded_model.predict(train_transformed_data)\n",
    "pred_y_val = loaded_model.predict(val_transformed_data)"
   ]
  },
  {
   "cell_type": "code",
   "execution_count": 98,
   "metadata": {},
   "outputs": [
    {
     "data": {
      "text/plain": [
       "0.38905289470265214"
      ]
     },
     "execution_count": 98,
     "metadata": {},
     "output_type": "execute_result"
    }
   ],
   "source": [
    "r2_score(y_train, pred_y_train)"
   ]
  },
  {
   "cell_type": "code",
   "execution_count": 99,
   "metadata": {},
   "outputs": [
    {
     "data": {
      "text/plain": [
       "0.3528226134774738"
      ]
     },
     "execution_count": 99,
     "metadata": {},
     "output_type": "execute_result"
    }
   ],
   "source": [
    "r2_score(y_val, pred_y_val)"
   ]
  },
  {
   "cell_type": "markdown",
   "metadata": {},
   "source": [
    "### The above accuracy can stem from two causes:\n",
    "1. We have a small dataset as such the model couldn't learn effectively\n",
    "2. Data features is poor and lack predictive attributes"
   ]
  },
  {
   "cell_type": "markdown",
   "metadata": {},
   "source": []
  }
 ],
 "metadata": {
  "kernelspec": {
   "display_name": "base",
   "language": "python",
   "name": "python3"
  },
  "language_info": {
   "codemirror_mode": {
    "name": "ipython",
    "version": 3
   },
   "file_extension": ".py",
   "mimetype": "text/x-python",
   "name": "python",
   "nbconvert_exporter": "python",
   "pygments_lexer": "ipython3",
   "version": "3.9.12"
  }
 },
 "nbformat": 4,
 "nbformat_minor": 2
}
